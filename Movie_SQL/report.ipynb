{
 "cells": [
  {
   "attachments": {},
   "cell_type": "markdown",
   "metadata": {},
   "source": [
    "# Project 5: Working with Pandas and SQL Databases (Movies Dataset)"
   ]
  },
  {
   "attachments": {},
   "cell_type": "markdown",
   "metadata": {},
   "source": [
    "## Creating an SQLite Database"
   ]
  },
  {
   "attachments": {},
   "cell_type": "markdown",
   "metadata": {},
   "source": [
    "1. __Import__ sqlite3 (as sq3) and __create__ a new SQLite Database with the name __\"movies.db\"__."
   ]
  },
  {
   "cell_type": "code",
   "execution_count": 1,
   "metadata": {},
   "outputs": [],
   "source": [
    "import sqlite3 as sq3\n",
    "import pandas as pd\n",
    "import json\n",
    "con = sq3.connect('movies.db')"
   ]
  },
  {
   "attachments": {},
   "cell_type": "markdown",
   "metadata": {},
   "source": [
    "## Loading Data from DataFrames into an SQLite Database"
   ]
  },
  {
   "attachments": {},
   "cell_type": "markdown",
   "metadata": {},
   "source": [
    "2. __Load__ the json file __\"some_movies.json\"__ and __split__ the dataset into the following __four datasets__ (save each dataset in a Pandas DataFrame)."
   ]
  },
  {
   "cell_type": "code",
   "execution_count": 2,
   "metadata": {},
   "outputs": [],
   "source": [
    "with open(\"some_movies.json\") as f:\n",
    "    df = json.load(f)"
   ]
  },
  {
   "cell_type": "code",
   "execution_count": 3,
   "metadata": {},
   "outputs": [
    {
     "data": {
      "text/plain": [
       "[{'adult': False,\n",
       "  'backdrop_path': '/orjiB3oUIsyz60hoEqkiGpy5CeO.jpg',\n",
       "  'belongs_to_collection': {'id': 86311,\n",
       "   'name': 'The Avengers Collection',\n",
       "   'poster_path': '/yFSIUVTCvgYrpalUktulvk3Gi5Y.jpg',\n",
       "   'backdrop_path': '/zuW6fOiusv4X9nnW3paHGfXcSll.jpg'},\n",
       "  'budget': 356000000,\n",
       "  'genres': [{'id': 12, 'name': 'Adventure'},\n",
       "   {'id': 878, 'name': 'Science Fiction'},\n",
       "   {'id': 28, 'name': 'Action'}],\n",
       "  'homepage': 'https://www.marvel.com/movies/avengers-endgame',\n",
       "  'id': 299534,\n",
       "  'imdb_id': 'tt4154796',\n",
       "  'original_language': 'en',\n",
       "  'original_title': 'Avengers: Endgame',\n",
       "  'overview': \"After the devastating events of Avengers: Infinity War, the universe is in ruins due to the efforts of the Mad Titan, Thanos. With the help of remaining allies, the Avengers must assemble once more in order to undo Thanos' actions and restore order to the universe once and for all, no matter what consequences may be in store.\",\n",
       "  'popularity': 50.279,\n",
       "  'poster_path': '/or06FN3Dka5tukK1e9sl16pB3iy.jpg',\n",
       "  'production_companies': [{'id': 420,\n",
       "    'logo_path': '/hUzeosd33nzE5MCNsZxCGEKTXaQ.png',\n",
       "    'name': 'Marvel Studios',\n",
       "    'origin_country': 'US'}],\n",
       "  'production_countries': [{'iso_3166_1': 'US',\n",
       "    'name': 'United States of America'}],\n",
       "  'release_date': '2019-04-24',\n",
       "  'revenue': 2797800564,\n",
       "  'runtime': 181,\n",
       "  'spoken_languages': [{'iso_639_1': 'en', 'name': 'English'},\n",
       "   {'iso_639_1': 'ja', 'name': '日本語'},\n",
       "   {'iso_639_1': 'xh', 'name': ''}],\n",
       "  'status': 'Released',\n",
       "  'tagline': 'Part of the journey is the end.',\n",
       "  'title': 'Avengers: Endgame',\n",
       "  'video': False,\n",
       "  'vote_average': 8.3,\n",
       "  'vote_count': 12607},\n",
       " {'adult': False,\n",
       "  'backdrop_path': '/wcC7kCICL6x6zHUlUyNp9pWoqW1.jpg',\n",
       "  'belongs_to_collection': {'id': 87096,\n",
       "   'name': 'Avatar Collection',\n",
       "   'poster_path': '/nslJVsO58Etqkk17oXMuVK4gNOF.jpg',\n",
       "   'backdrop_path': '/8nCr9W7sKus2q9PLbYsnT7iCkuT.jpg'},\n",
       "  'budget': 237000000,\n",
       "  'genres': [{'id': 28, 'name': 'Action'},\n",
       "   {'id': 12, 'name': 'Adventure'},\n",
       "   {'id': 14, 'name': 'Fantasy'},\n",
       "   {'id': 878, 'name': 'Science Fiction'}],\n",
       "  'homepage': 'http://www.avatarmovie.com/',\n",
       "  'id': 19995,\n",
       "  'imdb_id': 'tt0499549',\n",
       "  'original_language': 'en',\n",
       "  'original_title': 'Avatar',\n",
       "  'overview': 'In the 22nd century, a paraplegic Marine is dispatched to the moon Pandora on a unique mission, but becomes torn between following orders and protecting an alien civilization.',\n",
       "  'popularity': 40.5,\n",
       "  'poster_path': '/btnl50ZDJDSCal2NLQIYWw0XxvH.jpg',\n",
       "  'production_companies': [{'id': 444,\n",
       "    'logo_path': '/42UPdZl6B2cFXgNUASR8hSt9mpS.png',\n",
       "    'name': 'Dune Entertainment',\n",
       "    'origin_country': 'US'},\n",
       "   {'id': 574,\n",
       "    'logo_path': '/iB6GjNVHs5hOqcEYt2rcjBqIjki.png',\n",
       "    'name': 'Lightstorm Entertainment',\n",
       "    'origin_country': 'US'},\n",
       "   {'id': 25,\n",
       "    'logo_path': '/qZCc1lty5FzX30aOCVRBLzaVmcp.png',\n",
       "    'name': '20th Century Fox',\n",
       "    'origin_country': 'US'},\n",
       "   {'id': 290,\n",
       "    'logo_path': '/Q8mw2AOQQc8Qg0uNwLWq86DVZv.png',\n",
       "    'name': 'Ingenious Media',\n",
       "    'origin_country': 'GB'}],\n",
       "  'production_countries': [{'iso_3166_1': 'US',\n",
       "    'name': 'United States of America'},\n",
       "   {'iso_3166_1': 'GB', 'name': 'United Kingdom'}],\n",
       "  'release_date': '2009-12-10',\n",
       "  'revenue': 2787965087,\n",
       "  'runtime': 162,\n",
       "  'spoken_languages': [{'iso_639_1': 'en', 'name': 'English'},\n",
       "   {'iso_639_1': 'es', 'name': 'Español'}],\n",
       "  'status': 'Released',\n",
       "  'tagline': 'Enter the World of Pandora.',\n",
       "  'title': 'Avatar',\n",
       "  'video': False,\n",
       "  'vote_average': 7.4,\n",
       "  'vote_count': 21000},\n",
       " {'adult': False,\n",
       "  'backdrop_path': '/8BTsTfln4jlQrLXUBquXJ0ASQy9.jpg',\n",
       "  'belongs_to_collection': {'id': 10,\n",
       "   'name': 'Star Wars Collection',\n",
       "   'poster_path': '/r8Ph5MYXL04Qzu4QBbq2KjqwtkQ.jpg',\n",
       "   'backdrop_path': '/d8duYyyC9J5T825Hg7grmaabfxQ.jpg'},\n",
       "  'budget': 245000000,\n",
       "  'genres': [{'id': 28, 'name': 'Action'},\n",
       "   {'id': 12, 'name': 'Adventure'},\n",
       "   {'id': 878, 'name': 'Science Fiction'},\n",
       "   {'id': 14, 'name': 'Fantasy'}],\n",
       "  'homepage': 'http://www.starwars.com/films/star-wars-episode-vii',\n",
       "  'id': 140607,\n",
       "  'imdb_id': 'tt2488496',\n",
       "  'original_language': 'en',\n",
       "  'original_title': 'Star Wars: The Force Awakens',\n",
       "  'overview': 'Thirty years after defeating the Galactic Empire, Han Solo and his allies face a new threat from the evil Kylo Ren and his army of Stormtroopers.',\n",
       "  'popularity': 36.198,\n",
       "  'poster_path': '/9rd002JS49RwDW944fF1wjU8iTV.jpg',\n",
       "  'production_companies': [{'id': 1634,\n",
       "    'logo_path': None,\n",
       "    'name': 'Truenorth Productions',\n",
       "    'origin_country': 'IS'},\n",
       "   {'id': 1,\n",
       "    'logo_path': '/o86DbpburjxrqAzEDhXZcyE8pDb.png',\n",
       "    'name': 'Lucasfilm',\n",
       "    'origin_country': 'US'},\n",
       "   {'id': 11461,\n",
       "    'logo_path': '/p9FoEt5shEKRWRKVIlvFaEmRnun.png',\n",
       "    'name': 'Bad Robot',\n",
       "    'origin_country': 'US'}],\n",
       "  'production_countries': [{'iso_3166_1': 'US',\n",
       "    'name': 'United States of America'}],\n",
       "  'release_date': '2015-12-15',\n",
       "  'revenue': 2068223624,\n",
       "  'runtime': 136,\n",
       "  'spoken_languages': [{'iso_639_1': 'en', 'name': 'English'}],\n",
       "  'status': 'Released',\n",
       "  'tagline': 'Every generation has a story.',\n",
       "  'title': 'Star Wars: The Force Awakens',\n",
       "  'video': False,\n",
       "  'vote_average': 7.4,\n",
       "  'vote_count': 14205},\n",
       " {'adult': False,\n",
       "  'backdrop_path': '/lmZFxXgJE3vgrciwuDib0N8CfQo.jpg',\n",
       "  'belongs_to_collection': {'id': 86311,\n",
       "   'name': 'The Avengers Collection',\n",
       "   'poster_path': '/yFSIUVTCvgYrpalUktulvk3Gi5Y.jpg',\n",
       "   'backdrop_path': '/zuW6fOiusv4X9nnW3paHGfXcSll.jpg'},\n",
       "  'budget': 300000000,\n",
       "  'genres': [{'id': 12, 'name': 'Adventure'},\n",
       "   {'id': 28, 'name': 'Action'},\n",
       "   {'id': 878, 'name': 'Science Fiction'}],\n",
       "  'homepage': 'https://www.marvel.com/movies/avengers-infinity-war',\n",
       "  'id': 299536,\n",
       "  'imdb_id': 'tt4154756',\n",
       "  'original_language': 'en',\n",
       "  'original_title': 'Avengers: Infinity War',\n",
       "  'overview': 'As the Avengers and their allies have continued to protect the world from threats too large for any one hero to handle, a new danger has emerged from the cosmic shadows: Thanos. A despot of intergalactic infamy, his goal is to collect all six Infinity Stones, artifacts of unimaginable power, and use them to inflict his twisted will on all of reality. Everything the Avengers have fought for has led up to this moment - the fate of Earth and existence itself has never been more uncertain.',\n",
       "  'popularity': 78.331,\n",
       "  'poster_path': '/7WsyChQLEftFiDOVTGkv3hFpyyt.jpg',\n",
       "  'production_companies': [{'id': 420,\n",
       "    'logo_path': '/hUzeosd33nzE5MCNsZxCGEKTXaQ.png',\n",
       "    'name': 'Marvel Studios',\n",
       "    'origin_country': 'US'}],\n",
       "  'production_countries': [{'iso_3166_1': 'US',\n",
       "    'name': 'United States of America'}],\n",
       "  'release_date': '2018-04-25',\n",
       "  'revenue': 2046239637,\n",
       "  'runtime': 149,\n",
       "  'spoken_languages': [{'iso_639_1': 'en', 'name': 'English'},\n",
       "   {'iso_639_1': 'xh', 'name': ''}],\n",
       "  'status': 'Released',\n",
       "  'tagline': 'An entire universe. Once and for all.',\n",
       "  'title': 'Avengers: Infinity War',\n",
       "  'video': False,\n",
       "  'vote_average': 8.3,\n",
       "  'vote_count': 17718},\n",
       " {'adult': False,\n",
       "  'backdrop_path': '/6VmFqApQRyZZzmiGOQq2C92jyvH.jpg',\n",
       "  'belongs_to_collection': None,\n",
       "  'budget': 200000000,\n",
       "  'genres': [{'id': 18, 'name': 'Drama'}, {'id': 10749, 'name': 'Romance'}],\n",
       "  'homepage': '',\n",
       "  'id': 597,\n",
       "  'imdb_id': 'tt0120338',\n",
       "  'original_language': 'en',\n",
       "  'original_title': 'Titanic',\n",
       "  'overview': \"101-year-old Rose DeWitt Bukater tells the story of her life aboard the Titanic, 84 years later. A young Rose boards the ship with her mother and fiancé. Meanwhile, Jack Dawson and Fabrizio De Rossi win third-class tickets aboard the ship. Rose tells the whole story from Titanic's departure through to its death—on its first and last voyage—on April 15, 1912.\",\n",
       "  'popularity': 38.062,\n",
       "  'poster_path': '/9xjZS2rlVxm8SFx8kPC3aIGCOYQ.jpg',\n",
       "  'production_companies': [{'id': 4,\n",
       "    'logo_path': '/fycMZt242LVjagMByZOLUGbCvv3.png',\n",
       "    'name': 'Paramount',\n",
       "    'origin_country': 'US'},\n",
       "   {'id': 574,\n",
       "    'logo_path': '/iB6GjNVHs5hOqcEYt2rcjBqIjki.png',\n",
       "    'name': 'Lightstorm Entertainment',\n",
       "    'origin_country': 'US'},\n",
       "   {'id': 25,\n",
       "    'logo_path': '/qZCc1lty5FzX30aOCVRBLzaVmcp.png',\n",
       "    'name': '20th Century Fox',\n",
       "    'origin_country': 'US'}],\n",
       "  'production_countries': [{'iso_3166_1': 'US',\n",
       "    'name': 'United States of America'}],\n",
       "  'release_date': '1997-11-18',\n",
       "  'revenue': 1845034188,\n",
       "  'runtime': 194,\n",
       "  'spoken_languages': [{'iso_639_1': 'en', 'name': 'English'},\n",
       "   {'iso_639_1': 'fr', 'name': 'Français'},\n",
       "   {'iso_639_1': 'de', 'name': 'Deutsch'},\n",
       "   {'iso_639_1': 'sv', 'name': 'svenska'},\n",
       "   {'iso_639_1': 'it', 'name': 'Italiano'},\n",
       "   {'iso_639_1': 'ru', 'name': 'Pусский'}],\n",
       "  'status': 'Released',\n",
       "  'tagline': 'Nothing on Earth could come between them.',\n",
       "  'title': 'Titanic',\n",
       "  'video': False,\n",
       "  'vote_average': 7.8,\n",
       "  'vote_count': 16661},\n",
       " {'adult': False,\n",
       "  'backdrop_path': '/9OywzJLgobAbSGfhMXligzTylko.jpg',\n",
       "  'belongs_to_collection': {'id': 328,\n",
       "   'name': 'Jurassic Park Collection',\n",
       "   'poster_path': '/qIm2nHXLpBBdMxi8dvfrnDkBUDh.jpg',\n",
       "   'backdrop_path': '/njFixYzIxX8jsn6KMSEtAzi4avi.jpg'},\n",
       "  'budget': 150000000,\n",
       "  'genres': [{'id': 28, 'name': 'Action'},\n",
       "   {'id': 12, 'name': 'Adventure'},\n",
       "   {'id': 878, 'name': 'Science Fiction'},\n",
       "   {'id': 53, 'name': 'Thriller'}],\n",
       "  'homepage': 'http://www.jurassicworld.com/',\n",
       "  'id': 135397,\n",
       "  'imdb_id': 'tt0369610',\n",
       "  'original_language': 'en',\n",
       "  'original_title': 'Jurassic World',\n",
       "  'overview': 'Twenty-two years after the events of Jurassic Park, Isla Nublar now features a fully functioning dinosaur theme park, Jurassic World, as originally envisioned by John Hammond.',\n",
       "  'popularity': 25.281,\n",
       "  'poster_path': '/rhr4y79GpxQF9IsfJItRXVaoGs4.jpg',\n",
       "  'production_companies': [{'id': 3341,\n",
       "    'logo_path': '/dTG5dXE1kU2mpmL9BNnraffckLU.png',\n",
       "    'name': 'Fuji Television Network',\n",
       "    'origin_country': 'JP'},\n",
       "   {'id': 56,\n",
       "    'logo_path': '/cEaxANEisCqeEoRvODv2dO1I0iI.png',\n",
       "    'name': 'Amblin Entertainment',\n",
       "    'origin_country': 'US'},\n",
       "   {'id': 923,\n",
       "    'logo_path': '/5UQsZrfbfG2dYJbx8DxfoTr2Bvu.png',\n",
       "    'name': 'Legendary Entertainment',\n",
       "    'origin_country': 'US'},\n",
       "   {'id': 33,\n",
       "    'logo_path': '/8lvHyhjr8oUKOOy2dKXoALWKdp0.png',\n",
       "    'name': 'Universal Pictures',\n",
       "    'origin_country': 'US'},\n",
       "   {'id': 1778,\n",
       "    'logo_path': '/69xm6sF3JxugGVjfZfm1YY6d7EE.png',\n",
       "    'name': 'Dentsu',\n",
       "    'origin_country': 'JP'},\n",
       "   {'id': 862,\n",
       "    'logo_path': '/udTjbqPmcTbfrihMuLtLcizDEM1.png',\n",
       "    'name': 'The Kennedy/Marshall Company',\n",
       "    'origin_country': 'US'}],\n",
       "  'production_countries': [{'iso_3166_1': 'US',\n",
       "    'name': 'United States of America'}],\n",
       "  'release_date': '2015-06-06',\n",
       "  'revenue': 1671713208,\n",
       "  'runtime': 124,\n",
       "  'spoken_languages': [{'iso_639_1': 'en', 'name': 'English'}],\n",
       "  'status': 'Released',\n",
       "  'tagline': 'The park is open.',\n",
       "  'title': 'Jurassic World',\n",
       "  'video': False,\n",
       "  'vote_average': 6.6,\n",
       "  'vote_count': 15399},\n",
       " {'adult': False,\n",
       "  'backdrop_path': '/nRXO2SnOA75OsWhNhXstHB8ZmI3.jpg',\n",
       "  'belongs_to_collection': None,\n",
       "  'budget': 260000000,\n",
       "  'genres': [{'id': 12, 'name': 'Adventure'}, {'id': 10751, 'name': 'Family'}],\n",
       "  'homepage': 'https://movies.disney.com/the-lion-king-2019',\n",
       "  'id': 420818,\n",
       "  'imdb_id': 'tt6105098',\n",
       "  'original_language': 'en',\n",
       "  'original_title': 'The Lion King',\n",
       "  'overview': \"Simba idolizes his father, King Mufasa, and takes to heart his own royal destiny. But not everyone in the kingdom celebrates the new cub's arrival. Scar, Mufasa's brother—and former heir to the throne—has plans of his own. The battle for Pride Rock is ravaged with betrayal, tragedy and drama, ultimately resulting in Simba's exile. With help from a curious pair of newfound friends, Simba will have to figure out how to grow up and take back what is rightfully his.\",\n",
       "  'popularity': 49.847,\n",
       "  'poster_path': '/2bXbqYdUdNVa8VIWXVfclP2ICtT.jpg',\n",
       "  'production_companies': [{'id': 2,\n",
       "    'logo_path': '/wdrCwmRnLFJhEoH8GSfymY85KHT.png',\n",
       "    'name': 'Walt Disney Pictures',\n",
       "    'origin_country': 'US'},\n",
       "   {'id': 7297,\n",
       "    'logo_path': '/l29JYQVZbTcjZXoz4CUYFpKRmM3.png',\n",
       "    'name': 'Fairview Entertainment',\n",
       "    'origin_country': 'US'}],\n",
       "  'production_countries': [{'iso_3166_1': 'US',\n",
       "    'name': 'United States of America'}],\n",
       "  'release_date': '2019-07-12',\n",
       "  'revenue': 1656943394,\n",
       "  'runtime': 118,\n",
       "  'spoken_languages': [{'iso_639_1': 'en', 'name': 'English'}],\n",
       "  'status': 'Released',\n",
       "  'tagline': 'The King has Returned.',\n",
       "  'title': 'The Lion King',\n",
       "  'video': False,\n",
       "  'vote_average': 7.2,\n",
       "  'vote_count': 5425},\n",
       " {'adult': False,\n",
       "  'backdrop_path': '/v3A0T4fAz8xRugAkfUVkxGLd377.jpg',\n",
       "  'belongs_to_collection': {'id': 86311,\n",
       "   'name': 'The Avengers Collection',\n",
       "   'poster_path': '/yFSIUVTCvgYrpalUktulvk3Gi5Y.jpg',\n",
       "   'backdrop_path': '/zuW6fOiusv4X9nnW3paHGfXcSll.jpg'},\n",
       "  'budget': 220000000,\n",
       "  'genres': [{'id': 878, 'name': 'Science Fiction'},\n",
       "   {'id': 28, 'name': 'Action'},\n",
       "   {'id': 12, 'name': 'Adventure'}],\n",
       "  'homepage': 'http://marvel.com/avengers_movie/',\n",
       "  'id': 24428,\n",
       "  'imdb_id': 'tt0848228',\n",
       "  'original_language': 'en',\n",
       "  'original_title': 'The Avengers',\n",
       "  'overview': 'When an unexpected enemy emerges and threatens global safety and security, Nick Fury, director of the international peacekeeping agency known as S.H.I.E.L.D., finds himself in need of a team to pull the world back from the brink of disaster. Spanning the globe, a daring recruitment effort begins!',\n",
       "  'popularity': 69.459,\n",
       "  'poster_path': '/RYMX2wcKCBAr24UyPD7xwmjaTn.jpg',\n",
       "  'production_companies': [{'id': 420,\n",
       "    'logo_path': '/hUzeosd33nzE5MCNsZxCGEKTXaQ.png',\n",
       "    'name': 'Marvel Studios',\n",
       "    'origin_country': 'US'},\n",
       "   {'id': 4,\n",
       "    'logo_path': '/fycMZt242LVjagMByZOLUGbCvv3.png',\n",
       "    'name': 'Paramount',\n",
       "    'origin_country': 'US'}],\n",
       "  'production_countries': [{'iso_3166_1': 'US',\n",
       "    'name': 'United States of America'}],\n",
       "  'release_date': '2012-04-25',\n",
       "  'revenue': 1519557910,\n",
       "  'runtime': 143,\n",
       "  'spoken_languages': [{'iso_639_1': 'en', 'name': 'English'},\n",
       "   {'iso_639_1': 'hi', 'name': 'हिन्दी'},\n",
       "   {'iso_639_1': 'ru', 'name': 'Pусский'}],\n",
       "  'status': 'Released',\n",
       "  'tagline': 'Some assembly required.',\n",
       "  'title': 'The Avengers',\n",
       "  'video': False,\n",
       "  'vote_average': 7.7,\n",
       "  'vote_count': 22101},\n",
       " {'adult': False,\n",
       "  'backdrop_path': '/7X6zOOEzXTQJkzDgBHVly1BgyYu.jpg',\n",
       "  'belongs_to_collection': {'id': 9485,\n",
       "   'name': 'The Fast and the Furious Collection',\n",
       "   'poster_path': '/uv63yAGg1zETAs1XQsOQpava87l.jpg',\n",
       "   'backdrop_path': '/z5A5W3WYJc3UVEWljSGwdjDgQ0j.jpg'},\n",
       "  'budget': 190000000,\n",
       "  'genres': [{'id': 28, 'name': 'Action'}, {'id': 53, 'name': 'Thriller'}],\n",
       "  'homepage': 'http://www.furious7.com/',\n",
       "  'id': 168259,\n",
       "  'imdb_id': 'tt2820852',\n",
       "  'original_language': 'en',\n",
       "  'original_title': 'Furious 7',\n",
       "  'overview': 'Deckard Shaw seeks revenge against Dominic Toretto and his family for his comatose brother.',\n",
       "  'popularity': 22.032,\n",
       "  'poster_path': '/d9jZ2bKZw3ptTuxAyVHA6olPAVs.jpg',\n",
       "  'production_companies': [{'id': 87857,\n",
       "    'logo_path': None,\n",
       "    'name': 'Abu Dhabi Film Commission',\n",
       "    'origin_country': ''},\n",
       "   {'id': 33,\n",
       "    'logo_path': '/8lvHyhjr8oUKOOy2dKXoALWKdp0.png',\n",
       "    'name': 'Universal Pictures',\n",
       "    'origin_country': 'US'},\n",
       "   {'id': 40890,\n",
       "    'logo_path': None,\n",
       "    'name': 'China Film Co.',\n",
       "    'origin_country': 'CN'},\n",
       "   {'id': 333,\n",
       "    'logo_path': '/5xUJfzPZ8jWJUDzYtIeuPO4qPIa.png',\n",
       "    'name': 'Original Film',\n",
       "    'origin_country': 'US'},\n",
       "   {'id': 3341,\n",
       "    'logo_path': '/dTG5dXE1kU2mpmL9BNnraffckLU.png',\n",
       "    'name': 'Fuji Television Network',\n",
       "    'origin_country': 'JP'},\n",
       "   {'id': 86352,\n",
       "    'logo_path': None,\n",
       "    'name': 'Québec Production Services Tax Credit',\n",
       "    'origin_country': ''},\n",
       "   {'id': 87858,\n",
       "    'logo_path': None,\n",
       "    'name': 'Colorado Office of Film, Television & Media',\n",
       "    'origin_country': ''},\n",
       "   {'id': 1778,\n",
       "    'logo_path': '/69xm6sF3JxugGVjfZfm1YY6d7EE.png',\n",
       "    'name': 'Dentsu',\n",
       "    'origin_country': 'JP'},\n",
       "   {'id': 2531,\n",
       "    'logo_path': '/pC2iDCDCvV85vOBP7a5Ukxuc0Du.png',\n",
       "    'name': 'Media Rights Capital',\n",
       "    'origin_country': 'US'},\n",
       "   {'id': 1225,\n",
       "    'logo_path': None,\n",
       "    'name': 'One Race',\n",
       "    'origin_country': 'US'}],\n",
       "  'production_countries': [{'iso_3166_1': 'US',\n",
       "    'name': 'United States of America'}],\n",
       "  'release_date': '2015-04-01',\n",
       "  'revenue': 1515047671,\n",
       "  'runtime': 137,\n",
       "  'spoken_languages': [{'iso_639_1': 'en', 'name': 'English'}],\n",
       "  'status': 'Released',\n",
       "  'tagline': 'Vengeance Hits Home',\n",
       "  'title': 'Furious 7',\n",
       "  'video': False,\n",
       "  'vote_average': 7.3,\n",
       "  'vote_count': 7359},\n",
       " {'adult': False,\n",
       "  'backdrop_path': '/4zmNJNQkugbalqJLnKp0wnlp8i3.jpg',\n",
       "  'belongs_to_collection': {'id': 86311,\n",
       "   'name': 'The Avengers Collection',\n",
       "   'poster_path': '/yFSIUVTCvgYrpalUktulvk3Gi5Y.jpg',\n",
       "   'backdrop_path': '/zuW6fOiusv4X9nnW3paHGfXcSll.jpg'},\n",
       "  'budget': 250000000,\n",
       "  'genres': [{'id': 28, 'name': 'Action'},\n",
       "   {'id': 12, 'name': 'Adventure'},\n",
       "   {'id': 878, 'name': 'Science Fiction'}],\n",
       "  'homepage': 'http://marvel.com/movies/movie/193/avengers_age_of_ultron',\n",
       "  'id': 99861,\n",
       "  'imdb_id': 'tt2395427',\n",
       "  'original_language': 'en',\n",
       "  'original_title': 'Avengers: Age of Ultron',\n",
       "  'overview': 'When Tony Stark tries to jumpstart a dormant peacekeeping program, things go awry and Earth’s Mightiest Heroes are put to the ultimate test as the fate of the planet hangs in the balance. As the villainous Ultron emerges, it is up to The Avengers to stop him from enacting his terrible plans, and soon uneasy alliances and unexpected action pave the way for an epic and unique global adventure.',\n",
       "  'popularity': 43.805,\n",
       "  'poster_path': '/4ssDuvEDkSArWEdyBl2X5EHvYKU.jpg',\n",
       "  'production_companies': [{'id': 420,\n",
       "    'logo_path': '/hUzeosd33nzE5MCNsZxCGEKTXaQ.png',\n",
       "    'name': 'Marvel Studios',\n",
       "    'origin_country': 'US'}],\n",
       "  'production_countries': [{'iso_3166_1': 'US',\n",
       "    'name': 'United States of America'}],\n",
       "  'release_date': '2015-04-22',\n",
       "  'revenue': 1405403694,\n",
       "  'runtime': 141,\n",
       "  'spoken_languages': [{'iso_639_1': 'en', 'name': 'English'}],\n",
       "  'status': 'Released',\n",
       "  'tagline': 'A New Age Has Come.',\n",
       "  'title': 'Avengers: Age of Ultron',\n",
       "  'video': False,\n",
       "  'vote_average': 7.3,\n",
       "  'vote_count': 15548},\n",
       " {'adult': False,\n",
       "  'backdrop_path': '/6ELJEzQJ3Y45HczvreC3dg0GV5R.jpg',\n",
       "  'belongs_to_collection': {'id': 529892,\n",
       "   'name': 'Black Panther Collection',\n",
       "   'poster_path': '/9ZSPIsxI3TZDgfg0Jzk0RZl4INg.jpg',\n",
       "   'backdrop_path': '/1Jj7Frjjbewb6Q6dl6YXhL3kuvL.jpg'},\n",
       "  'budget': 200000000,\n",
       "  'genres': [{'id': 28, 'name': 'Action'},\n",
       "   {'id': 12, 'name': 'Adventure'},\n",
       "   {'id': 14, 'name': 'Fantasy'},\n",
       "   {'id': 878, 'name': 'Science Fiction'}],\n",
       "  'homepage': 'https://marvel.com/movies/movie/224/black_panther',\n",
       "  'id': 284054,\n",
       "  'imdb_id': 'tt1825683',\n",
       "  'original_language': 'en',\n",
       "  'original_title': 'Black Panther',\n",
       "  'overview': \"King T'Challa returns home from America to the reclusive, technologically advanced African nation of Wakanda to serve as his country's new leader. However, T'Challa soon finds that he is challenged for the throne by factions within his own country as well as without. Using powers reserved to Wakandan kings, T'Challa assumes the Black Panther mantel to join with girlfriend Nakia, the queen-mother, his princess-kid sister, members of the Dora Milaje (the Wakandan 'special forces') and an American secret agent, to prevent Wakanda from being dragged into a world war.\",\n",
       "  'popularity': 36.581,\n",
       "  'poster_path': '/uxzzxijgPIY7slzFvMotPv8wjKA.jpg',\n",
       "  'production_companies': [{'id': 420,\n",
       "    'logo_path': '/hUzeosd33nzE5MCNsZxCGEKTXaQ.png',\n",
       "    'name': 'Marvel Studios',\n",
       "    'origin_country': 'US'},\n",
       "   {'id': 2,\n",
       "    'logo_path': '/wdrCwmRnLFJhEoH8GSfymY85KHT.png',\n",
       "    'name': 'Walt Disney Pictures',\n",
       "    'origin_country': 'US'}],\n",
       "  'production_countries': [{'iso_3166_1': 'US',\n",
       "    'name': 'United States of America'}],\n",
       "  'release_date': '2018-02-13',\n",
       "  'revenue': 1346739107,\n",
       "  'runtime': 134,\n",
       "  'spoken_languages': [{'iso_639_1': 'en', 'name': 'English'},\n",
       "   {'iso_639_1': 'ko', 'name': '한국어/조선말'},\n",
       "   {'iso_639_1': 'sw', 'name': 'Kiswahili'},\n",
       "   {'iso_639_1': 'xh', 'name': ''}],\n",
       "  'status': 'Released',\n",
       "  'tagline': 'Long live the king.',\n",
       "  'title': 'Black Panther',\n",
       "  'video': False,\n",
       "  'vote_average': 7.4,\n",
       "  'vote_count': 14830},\n",
       " {'adult': False,\n",
       "  'backdrop_path': '/n5A7brJCjejceZmHyujwUTVgQNC.jpg',\n",
       "  'belongs_to_collection': {'id': 1241,\n",
       "   'name': 'Harry Potter Collection',\n",
       "   'poster_path': '/eVPs2Y0LyvTLZn6AP5Z6O2rtiGB.jpg',\n",
       "   'backdrop_path': '/wfnMt6LGqYHcNyOfsuusw5lX3bL.jpg'},\n",
       "  'budget': 125000000,\n",
       "  'genres': [{'id': 14, 'name': 'Fantasy'}, {'id': 12, 'name': 'Adventure'}],\n",
       "  'homepage': 'https://www.warnerbros.com/movies/harry-potter-and-deathly-hallows-part-2/',\n",
       "  'id': 12445,\n",
       "  'imdb_id': 'tt1201607',\n",
       "  'original_language': 'en',\n",
       "  'original_title': 'Harry Potter and the Deathly Hallows: Part 2',\n",
       "  'overview': \"Harry, Ron and Hermione continue their quest to vanquish the evil Voldemort once and for all. Just as things begin to look hopeless for the young wizards, Harry discovers a trio of magical objects that endow him with powers to rival Voldemort's formidable skills.\",\n",
       "  'popularity': 40.209,\n",
       "  'poster_path': '/c54HpQmuwXjHq2C9wmoACjxoom3.jpg',\n",
       "  'production_companies': [{'id': 174,\n",
       "    'logo_path': '/IuAlhI9eVC9Z8UQWOIDdWRKSEJ.png',\n",
       "    'name': 'Warner Bros. Pictures',\n",
       "    'origin_country': 'US'},\n",
       "   {'id': 437,\n",
       "    'logo_path': '/nu20mtwbEIhUNnQ5NXVhHsNknZj.png',\n",
       "    'name': 'Heyday Films',\n",
       "    'origin_country': 'GB'}],\n",
       "  'production_countries': [{'iso_3166_1': 'GB', 'name': 'United Kingdom'},\n",
       "   {'iso_3166_1': 'US', 'name': 'United States of America'}],\n",
       "  'release_date': '2011-07-07',\n",
       "  'revenue': 1341511219,\n",
       "  'runtime': 130,\n",
       "  'spoken_languages': [{'iso_639_1': 'en', 'name': 'English'}],\n",
       "  'status': 'Released',\n",
       "  'tagline': 'It all ends here.',\n",
       "  'title': 'Harry Potter and the Deathly Hallows: Part 2',\n",
       "  'video': False,\n",
       "  'vote_average': 8.1,\n",
       "  'vote_count': 13447},\n",
       " {'adult': False,\n",
       "  'backdrop_path': '/5Iw7zQTHVRBOYpA0V6z0yypOPZh.jpg',\n",
       "  'belongs_to_collection': {'id': 10,\n",
       "   'name': 'Star Wars Collection',\n",
       "   'poster_path': '/r8Ph5MYXL04Qzu4QBbq2KjqwtkQ.jpg',\n",
       "   'backdrop_path': '/d8duYyyC9J5T825Hg7grmaabfxQ.jpg'},\n",
       "  'budget': 200000000,\n",
       "  'genres': [{'id': 878, 'name': 'Science Fiction'},\n",
       "   {'id': 28, 'name': 'Action'},\n",
       "   {'id': 12, 'name': 'Adventure'}],\n",
       "  'homepage': 'https://www.starwars.com/films/star-wars-episode-viii-the-last-jedi',\n",
       "  'id': 181808,\n",
       "  'imdb_id': 'tt2527336',\n",
       "  'original_language': 'en',\n",
       "  'original_title': 'Star Wars: The Last Jedi',\n",
       "  'overview': 'Rey develops her newly discovered abilities with the guidance of Luke Skywalker, who is unsettled by the strength of her powers. Meanwhile, the Resistance prepares to do battle with the First Order.',\n",
       "  'popularity': 43.437,\n",
       "  'poster_path': '/kOVEVeg59E0wsnXmF9nrh6OmWII.jpg',\n",
       "  'production_companies': [{'id': 1,\n",
       "    'logo_path': '/o86DbpburjxrqAzEDhXZcyE8pDb.png',\n",
       "    'name': 'Lucasfilm',\n",
       "    'origin_country': 'US'},\n",
       "   {'id': 11092,\n",
       "    'logo_path': None,\n",
       "    'name': 'Ram Bergman Productions',\n",
       "    'origin_country': 'US'},\n",
       "   {'id': 2,\n",
       "    'logo_path': '/wdrCwmRnLFJhEoH8GSfymY85KHT.png',\n",
       "    'name': 'Walt Disney Pictures',\n",
       "    'origin_country': 'US'}],\n",
       "  'production_countries': [{'iso_3166_1': 'US',\n",
       "    'name': 'United States of America'}],\n",
       "  'release_date': '2017-12-13',\n",
       "  'revenue': 1332539889,\n",
       "  'runtime': 152,\n",
       "  'spoken_languages': [{'iso_639_1': 'en', 'name': 'English'}],\n",
       "  'status': 'Released',\n",
       "  'tagline': 'Darkness rises... and light to meet it',\n",
       "  'title': 'Star Wars: The Last Jedi',\n",
       "  'video': False,\n",
       "  'vote_average': 7.0,\n",
       "  'vote_count': 10304},\n",
       " {'adult': False,\n",
       "  'backdrop_path': '/xJWPZIYOEFIjZpBL7SVBGnzRYXp.jpg',\n",
       "  'belongs_to_collection': {'id': 386382,\n",
       "   'name': 'Frozen Collection',\n",
       "   'poster_path': '/rpoXnE9UzCbjmINhxIi8bZF557B.jpg',\n",
       "   'backdrop_path': '/k21wXgC9AVnKoHW1lRPS0UUGCZ4.jpg'},\n",
       "  'budget': 150000000,\n",
       "  'genres': [{'id': 16, 'name': 'Animation'},\n",
       "   {'id': 10751, 'name': 'Family'},\n",
       "   {'id': 12, 'name': 'Adventure'}],\n",
       "  'homepage': 'https://movies.disney.com/frozen-2',\n",
       "  'id': 330457,\n",
       "  'imdb_id': 'tt4520988',\n",
       "  'original_language': 'en',\n",
       "  'original_title': 'Frozen II',\n",
       "  'overview': 'Elsa, Anna, Kristoff and Olaf head far into the forest to learn the truth about an ancient mystery of their kingdom.',\n",
       "  'popularity': 71.177,\n",
       "  'poster_path': '/h6Wi81XNXCjTAcdstiCLRykN3Pa.jpg',\n",
       "  'production_companies': [{'id': 6125,\n",
       "    'logo_path': '/tVPmo07IHhBs4HuilrcV0yujsZ9.png',\n",
       "    'name': 'Walt Disney Animation Studios',\n",
       "    'origin_country': 'US'},\n",
       "   {'id': 2,\n",
       "    'logo_path': '/wdrCwmRnLFJhEoH8GSfymY85KHT.png',\n",
       "    'name': 'Walt Disney Pictures',\n",
       "    'origin_country': 'US'}],\n",
       "  'production_countries': [{'iso_3166_1': 'US',\n",
       "    'name': 'United States of America'}],\n",
       "  'release_date': '2019-11-20',\n",
       "  'revenue': 1330764959,\n",
       "  'runtime': 104,\n",
       "  'spoken_languages': [{'iso_639_1': 'en', 'name': 'English'}],\n",
       "  'status': 'Released',\n",
       "  'tagline': 'The past is not what it seems.',\n",
       "  'title': 'Frozen II',\n",
       "  'video': False,\n",
       "  'vote_average': 7.2,\n",
       "  'vote_count': 3982},\n",
       " {'adult': False,\n",
       "  'backdrop_path': '/3s9O5af2xWKWR5JzP2iJZpZeQQg.jpg',\n",
       "  'belongs_to_collection': {'id': 328,\n",
       "   'name': 'Jurassic Park Collection',\n",
       "   'poster_path': '/qIm2nHXLpBBdMxi8dvfrnDkBUDh.jpg',\n",
       "   'backdrop_path': '/njFixYzIxX8jsn6KMSEtAzi4avi.jpg'},\n",
       "  'budget': 170000000,\n",
       "  'genres': [{'id': 28, 'name': 'Action'},\n",
       "   {'id': 12, 'name': 'Adventure'},\n",
       "   {'id': 878, 'name': 'Science Fiction'}],\n",
       "  'homepage': 'http://www.jurassicworld.com',\n",
       "  'id': 351286,\n",
       "  'imdb_id': 'tt4881806',\n",
       "  'original_language': 'en',\n",
       "  'original_title': 'Jurassic World: Fallen Kingdom',\n",
       "  'overview': 'Three years after the demise of Jurassic World, a volcanic eruption threatens the remaining dinosaurs on the isla Nublar, so Claire Dearing, the former park manager, recruits Owen Grady to help prevent the extinction of the dinosaurs once again.',\n",
       "  'popularity': 34.147,\n",
       "  'poster_path': '/c9XxwwhPHdaImA2f1WEfEsbhaFB.jpg',\n",
       "  'production_companies': [{'id': 56,\n",
       "    'logo_path': '/cEaxANEisCqeEoRvODv2dO1I0iI.png',\n",
       "    'name': 'Amblin Entertainment',\n",
       "    'origin_country': 'US'},\n",
       "   {'id': 923,\n",
       "    'logo_path': '/5UQsZrfbfG2dYJbx8DxfoTr2Bvu.png',\n",
       "    'name': 'Legendary Entertainment',\n",
       "    'origin_country': 'US'},\n",
       "   {'id': 33,\n",
       "    'logo_path': '/8lvHyhjr8oUKOOy2dKXoALWKdp0.png',\n",
       "    'name': 'Universal Pictures',\n",
       "    'origin_country': 'US'},\n",
       "   {'id': 10338,\n",
       "    'logo_path': '/el2ap6lvjcEDdbyJoB3oKiYgXu9.png',\n",
       "    'name': 'Perfect World Pictures',\n",
       "    'origin_country': 'CN'}],\n",
       "  'production_countries': [{'iso_3166_1': 'US',\n",
       "    'name': 'United States of America'}],\n",
       "  'release_date': '2018-06-06',\n",
       "  'revenue': 1303459585,\n",
       "  'runtime': 129,\n",
       "  'spoken_languages': [{'iso_639_1': 'en', 'name': 'English'},\n",
       "   {'iso_639_1': 'ru', 'name': 'Pусский'}],\n",
       "  'status': 'Released',\n",
       "  'tagline': 'The park is gone',\n",
       "  'title': 'Jurassic World: Fallen Kingdom',\n",
       "  'video': False,\n",
       "  'vote_average': 6.5,\n",
       "  'vote_count': 7337},\n",
       " {'adult': False,\n",
       "  'backdrop_path': '/fydUcbkqLyESCFa9U5XKqi8dIVj.jpg',\n",
       "  'belongs_to_collection': {'id': 386382,\n",
       "   'name': 'Frozen Collection',\n",
       "   'poster_path': '/rpoXnE9UzCbjmINhxIi8bZF557B.jpg',\n",
       "   'backdrop_path': '/k21wXgC9AVnKoHW1lRPS0UUGCZ4.jpg'},\n",
       "  'budget': 150000000,\n",
       "  'genres': [{'id': 16, 'name': 'Animation'},\n",
       "   {'id': 12, 'name': 'Adventure'},\n",
       "   {'id': 10751, 'name': 'Family'}],\n",
       "  'homepage': 'http://movies.disney.com/frozen',\n",
       "  'id': 109445,\n",
       "  'imdb_id': 'tt2294629',\n",
       "  'original_language': 'en',\n",
       "  'original_title': 'Frozen',\n",
       "  'overview': \"Young princess Anna of Arendelle dreams about finding true love at her sister Elsa’s coronation. Fate takes her on a dangerous journey in an attempt to end the eternal winter that has fallen over the kingdom. She's accompanied by ice delivery man Kristoff, his reindeer Sven, and snowman Olaf. On an adventure where she will find out what friendship, courage, family, and true love really means.\",\n",
       "  'popularity': 45.911,\n",
       "  'poster_path': '/yald8Lsb4uCRvjIH3spzR84Kdwf.jpg',\n",
       "  'production_companies': [{'id': 2,\n",
       "    'logo_path': '/wdrCwmRnLFJhEoH8GSfymY85KHT.png',\n",
       "    'name': 'Walt Disney Pictures',\n",
       "    'origin_country': 'US'},\n",
       "   {'id': 6125,\n",
       "    'logo_path': '/tVPmo07IHhBs4HuilrcV0yujsZ9.png',\n",
       "    'name': 'Walt Disney Animation Studios',\n",
       "    'origin_country': 'US'}],\n",
       "  'production_countries': [{'iso_3166_1': 'US',\n",
       "    'name': 'United States of America'}],\n",
       "  'release_date': '2013-11-27',\n",
       "  'revenue': 1274219009,\n",
       "  'runtime': 102,\n",
       "  'spoken_languages': [{'iso_639_1': 'en', 'name': 'English'}],\n",
       "  'status': 'Released',\n",
       "  'tagline': 'Only the act of true love will thaw a frozen heart.',\n",
       "  'title': 'Frozen',\n",
       "  'video': False,\n",
       "  'vote_average': 7.3,\n",
       "  'vote_count': 11616},\n",
       " {'adult': False,\n",
       "  'backdrop_path': '/7QshG75xKCmClghQDU1ta2BTaja.jpg',\n",
       "  'belongs_to_collection': None,\n",
       "  'budget': 160000000,\n",
       "  'genres': [{'id': 10751, 'name': 'Family'},\n",
       "   {'id': 14, 'name': 'Fantasy'},\n",
       "   {'id': 10749, 'name': 'Romance'}],\n",
       "  'homepage': 'http://movies.disney.com/beauty-and-the-beast-2017',\n",
       "  'id': 321612,\n",
       "  'imdb_id': 'tt2771200',\n",
       "  'original_language': 'en',\n",
       "  'original_title': 'Beauty and the Beast',\n",
       "  'overview': \"A live-action adaptation of Disney's version of the classic tale of a cursed prince and a beautiful young woman who helps him break the spell.\",\n",
       "  'popularity': 30.506,\n",
       "  'poster_path': '/tWqifoYuwLETmmasnGHO7xBjEtt.jpg',\n",
       "  'production_companies': [{'id': 2,\n",
       "    'logo_path': '/wdrCwmRnLFJhEoH8GSfymY85KHT.png',\n",
       "    'name': 'Walt Disney Pictures',\n",
       "    'origin_country': 'US'},\n",
       "   {'id': 10227,\n",
       "    'logo_path': '/3YfRy3DBl4abcqkzGx4RVNz12yl.png',\n",
       "    'name': 'Mandeville Films',\n",
       "    'origin_country': 'US'}],\n",
       "  'production_countries': [{'iso_3166_1': 'US',\n",
       "    'name': 'United States of America'}],\n",
       "  'release_date': '2017-03-16',\n",
       "  'revenue': 1263521126,\n",
       "  'runtime': 129,\n",
       "  'spoken_languages': [{'iso_639_1': 'en', 'name': 'English'},\n",
       "   {'iso_639_1': 'fr', 'name': 'Français'}],\n",
       "  'status': 'Released',\n",
       "  'tagline': 'Be our guest.',\n",
       "  'title': 'Beauty and the Beast',\n",
       "  'video': False,\n",
       "  'vote_average': 6.9,\n",
       "  'vote_count': 12203},\n",
       " {'adult': False,\n",
       "  'backdrop_path': '/mabuNsGJgRuCTuGqjFkWe1xdu19.jpg',\n",
       "  'belongs_to_collection': {'id': 468222,\n",
       "   'name': 'The Incredibles Collection',\n",
       "   'poster_path': '/l7GqbzkJwowYRIXAtUz2iCPi64a.jpg',\n",
       "   'backdrop_path': '/9eDW2dVhnzPS2HvaRdK2OlAGaLq.jpg'},\n",
       "  'budget': 200000000,\n",
       "  'genres': [{'id': 28, 'name': 'Action'},\n",
       "   {'id': 12, 'name': 'Adventure'},\n",
       "   {'id': 16, 'name': 'Animation'},\n",
       "   {'id': 10751, 'name': 'Family'}],\n",
       "  'homepage': 'https://movies.disney.com/incredibles-2',\n",
       "  'id': 260513,\n",
       "  'imdb_id': 'tt3606756',\n",
       "  'original_language': 'en',\n",
       "  'original_title': 'Incredibles 2',\n",
       "  'overview': 'Elastigirl springs into action to save the day, while Mr. Incredible faces his greatest challenge yet – taking care of the problems of his three children.',\n",
       "  'popularity': 30.701,\n",
       "  'poster_path': '/9lFKBtaVIhP7E2Pk0IY1CwTKTMZ.jpg',\n",
       "  'production_companies': [{'id': 2,\n",
       "    'logo_path': '/wdrCwmRnLFJhEoH8GSfymY85KHT.png',\n",
       "    'name': 'Walt Disney Pictures',\n",
       "    'origin_country': 'US'},\n",
       "   {'id': 3,\n",
       "    'logo_path': '/1TjvGVDMYsj6JBxOAkUHpPEwLf7.png',\n",
       "    'name': 'Pixar',\n",
       "    'origin_country': 'US'}],\n",
       "  'production_countries': [{'iso_3166_1': 'US',\n",
       "    'name': 'United States of America'}],\n",
       "  'release_date': '2018-06-14',\n",
       "  'revenue': 1241891456,\n",
       "  'runtime': 118,\n",
       "  'spoken_languages': [{'iso_639_1': 'en', 'name': 'English'}],\n",
       "  'status': 'Released',\n",
       "  'tagline': 'Back to work.',\n",
       "  'title': 'Incredibles 2',\n",
       "  'video': False,\n",
       "  'vote_average': 7.5,\n",
       "  'vote_count': 8147}]"
      ]
     },
     "execution_count": 3,
     "metadata": {},
     "output_type": "execute_result"
    }
   ],
   "source": [
    "df"
   ]
  },
  {
   "cell_type": "code",
   "execution_count": 4,
   "metadata": {},
   "outputs": [],
   "source": [
    "data = pd.json_normalize(df,sep='_')"
   ]
  },
  {
   "attachments": {},
   "cell_type": "markdown",
   "metadata": {},
   "source": [
    "__Dataset #1 (Movies)__ with columns [\"id\", \"title\", \"revenue\", \"budget\", \"belongs_to_collection_name\", \"release_date\"]. <br>\n",
    "Convert \"release_date\" to datetime and transform \"budget\" and \"revenue\" to Million USD before loading into the Database. "
   ]
  },
  {
   "cell_type": "code",
   "execution_count": 5,
   "metadata": {},
   "outputs": [
    {
     "data": {
      "text/html": [
       "<div>\n",
       "<style scoped>\n",
       "    .dataframe tbody tr th:only-of-type {\n",
       "        vertical-align: middle;\n",
       "    }\n",
       "\n",
       "    .dataframe tbody tr th {\n",
       "        vertical-align: top;\n",
       "    }\n",
       "\n",
       "    .dataframe thead th {\n",
       "        text-align: right;\n",
       "    }\n",
       "</style>\n",
       "<table border=\"1\" class=\"dataframe\">\n",
       "  <thead>\n",
       "    <tr style=\"text-align: right;\">\n",
       "      <th></th>\n",
       "      <th>id</th>\n",
       "      <th>title</th>\n",
       "      <th>revenue</th>\n",
       "      <th>budget</th>\n",
       "      <th>belongs_to_collection_name</th>\n",
       "      <th>release_date</th>\n",
       "    </tr>\n",
       "  </thead>\n",
       "  <tbody>\n",
       "    <tr>\n",
       "      <th>0</th>\n",
       "      <td>299534</td>\n",
       "      <td>Avengers: Endgame</td>\n",
       "      <td>2797800564</td>\n",
       "      <td>356000000</td>\n",
       "      <td>The Avengers Collection</td>\n",
       "      <td>2019-04-24</td>\n",
       "    </tr>\n",
       "    <tr>\n",
       "      <th>1</th>\n",
       "      <td>19995</td>\n",
       "      <td>Avatar</td>\n",
       "      <td>2787965087</td>\n",
       "      <td>237000000</td>\n",
       "      <td>Avatar Collection</td>\n",
       "      <td>2009-12-10</td>\n",
       "    </tr>\n",
       "    <tr>\n",
       "      <th>2</th>\n",
       "      <td>140607</td>\n",
       "      <td>Star Wars: The Force Awakens</td>\n",
       "      <td>2068223624</td>\n",
       "      <td>245000000</td>\n",
       "      <td>Star Wars Collection</td>\n",
       "      <td>2015-12-15</td>\n",
       "    </tr>\n",
       "    <tr>\n",
       "      <th>3</th>\n",
       "      <td>299536</td>\n",
       "      <td>Avengers: Infinity War</td>\n",
       "      <td>2046239637</td>\n",
       "      <td>300000000</td>\n",
       "      <td>The Avengers Collection</td>\n",
       "      <td>2018-04-25</td>\n",
       "    </tr>\n",
       "    <tr>\n",
       "      <th>4</th>\n",
       "      <td>597</td>\n",
       "      <td>Titanic</td>\n",
       "      <td>1845034188</td>\n",
       "      <td>200000000</td>\n",
       "      <td>NaN</td>\n",
       "      <td>1997-11-18</td>\n",
       "    </tr>\n",
       "  </tbody>\n",
       "</table>\n",
       "</div>"
      ],
      "text/plain": [
       "       id                         title     revenue     budget  \\\n",
       "0  299534             Avengers: Endgame  2797800564  356000000   \n",
       "1   19995                        Avatar  2787965087  237000000   \n",
       "2  140607  Star Wars: The Force Awakens  2068223624  245000000   \n",
       "3  299536        Avengers: Infinity War  2046239637  300000000   \n",
       "4     597                       Titanic  1845034188  200000000   \n",
       "\n",
       "  belongs_to_collection_name release_date  \n",
       "0    The Avengers Collection   2019-04-24  \n",
       "1          Avatar Collection   2009-12-10  \n",
       "2       Star Wars Collection   2015-12-15  \n",
       "3    The Avengers Collection   2018-04-25  \n",
       "4                        NaN   1997-11-18  "
      ]
     },
     "execution_count": 5,
     "metadata": {},
     "output_type": "execute_result"
    }
   ],
   "source": [
    "movies = data[['id','title','revenue','budget','belongs_to_collection_name','release_date']].copy()\n",
    "movies.head()"
   ]
  },
  {
   "cell_type": "code",
   "execution_count": 6,
   "metadata": {},
   "outputs": [],
   "source": [
    "movies['release_date'] = pd.to_datetime(movies['release_date'])"
   ]
  },
  {
   "cell_type": "code",
   "execution_count": 7,
   "metadata": {},
   "outputs": [],
   "source": [
    "movies['budget'] = movies['budget']/1000000\n",
    "movies['revenue'] = movies['revenue']/1000000"
   ]
  },
  {
   "cell_type": "code",
   "execution_count": 8,
   "metadata": {},
   "outputs": [
    {
     "name": "stdout",
     "output_type": "stream",
     "text": [
      "<class 'pandas.core.frame.DataFrame'>\n",
      "RangeIndex: 18 entries, 0 to 17\n",
      "Data columns (total 6 columns):\n",
      " #   Column                      Non-Null Count  Dtype         \n",
      "---  ------                      --------------  -----         \n",
      " 0   id                          18 non-null     int64         \n",
      " 1   title                       18 non-null     object        \n",
      " 2   revenue                     18 non-null     float64       \n",
      " 3   budget                      18 non-null     float64       \n",
      " 4   belongs_to_collection_name  15 non-null     object        \n",
      " 5   release_date                18 non-null     datetime64[ns]\n",
      "dtypes: datetime64[ns](1), float64(2), int64(1), object(2)\n",
      "memory usage: 992.0+ bytes\n"
     ]
    }
   ],
   "source": [
    "movies.info()"
   ]
  },
  {
   "attachments": {},
   "cell_type": "markdown",
   "metadata": {},
   "source": [
    "__Dataset #2 (Votes)__ with columns [\"id\", \"vote_count\", \"vote_average\"]. "
   ]
  },
  {
   "cell_type": "code",
   "execution_count": 9,
   "metadata": {},
   "outputs": [],
   "source": [
    "votes = data[['id','vote_count','vote_average']].copy()"
   ]
  },
  {
   "cell_type": "code",
   "execution_count": 10,
   "metadata": {},
   "outputs": [
    {
     "data": {
      "text/html": [
       "<div>\n",
       "<style scoped>\n",
       "    .dataframe tbody tr th:only-of-type {\n",
       "        vertical-align: middle;\n",
       "    }\n",
       "\n",
       "    .dataframe tbody tr th {\n",
       "        vertical-align: top;\n",
       "    }\n",
       "\n",
       "    .dataframe thead th {\n",
       "        text-align: right;\n",
       "    }\n",
       "</style>\n",
       "<table border=\"1\" class=\"dataframe\">\n",
       "  <thead>\n",
       "    <tr style=\"text-align: right;\">\n",
       "      <th></th>\n",
       "      <th>id</th>\n",
       "      <th>vote_count</th>\n",
       "      <th>vote_average</th>\n",
       "    </tr>\n",
       "  </thead>\n",
       "  <tbody>\n",
       "    <tr>\n",
       "      <th>0</th>\n",
       "      <td>299534</td>\n",
       "      <td>12607</td>\n",
       "      <td>8.3</td>\n",
       "    </tr>\n",
       "    <tr>\n",
       "      <th>1</th>\n",
       "      <td>19995</td>\n",
       "      <td>21000</td>\n",
       "      <td>7.4</td>\n",
       "    </tr>\n",
       "    <tr>\n",
       "      <th>2</th>\n",
       "      <td>140607</td>\n",
       "      <td>14205</td>\n",
       "      <td>7.4</td>\n",
       "    </tr>\n",
       "    <tr>\n",
       "      <th>3</th>\n",
       "      <td>299536</td>\n",
       "      <td>17718</td>\n",
       "      <td>8.3</td>\n",
       "    </tr>\n",
       "    <tr>\n",
       "      <th>4</th>\n",
       "      <td>597</td>\n",
       "      <td>16661</td>\n",
       "      <td>7.8</td>\n",
       "    </tr>\n",
       "  </tbody>\n",
       "</table>\n",
       "</div>"
      ],
      "text/plain": [
       "       id  vote_count  vote_average\n",
       "0  299534       12607           8.3\n",
       "1   19995       21000           7.4\n",
       "2  140607       14205           7.4\n",
       "3  299536       17718           8.3\n",
       "4     597       16661           7.8"
      ]
     },
     "execution_count": 10,
     "metadata": {},
     "output_type": "execute_result"
    }
   ],
   "source": [
    "votes.head()"
   ]
  },
  {
   "attachments": {},
   "cell_type": "markdown",
   "metadata": {},
   "source": [
    "__Dataset #3 (Genres)__ with columns [\"genre_id\", \"genre_name\", \"id\"]. <br> "
   ]
  },
  {
   "cell_type": "code",
   "execution_count": 11,
   "metadata": {},
   "outputs": [
    {
     "data": {
      "text/html": [
       "<div>\n",
       "<style scoped>\n",
       "    .dataframe tbody tr th:only-of-type {\n",
       "        vertical-align: middle;\n",
       "    }\n",
       "\n",
       "    .dataframe tbody tr th {\n",
       "        vertical-align: top;\n",
       "    }\n",
       "\n",
       "    .dataframe thead th {\n",
       "        text-align: right;\n",
       "    }\n",
       "</style>\n",
       "<table border=\"1\" class=\"dataframe\">\n",
       "  <thead>\n",
       "    <tr style=\"text-align: right;\">\n",
       "      <th></th>\n",
       "      <th>genre_id</th>\n",
       "      <th>genre_name</th>\n",
       "      <th>id</th>\n",
       "    </tr>\n",
       "  </thead>\n",
       "  <tbody>\n",
       "    <tr>\n",
       "      <th>0</th>\n",
       "      <td>12</td>\n",
       "      <td>Adventure</td>\n",
       "      <td>299534</td>\n",
       "    </tr>\n",
       "    <tr>\n",
       "      <th>1</th>\n",
       "      <td>878</td>\n",
       "      <td>Science Fiction</td>\n",
       "      <td>299534</td>\n",
       "    </tr>\n",
       "    <tr>\n",
       "      <th>2</th>\n",
       "      <td>28</td>\n",
       "      <td>Action</td>\n",
       "      <td>299534</td>\n",
       "    </tr>\n",
       "    <tr>\n",
       "      <th>3</th>\n",
       "      <td>28</td>\n",
       "      <td>Action</td>\n",
       "      <td>19995</td>\n",
       "    </tr>\n",
       "    <tr>\n",
       "      <th>4</th>\n",
       "      <td>12</td>\n",
       "      <td>Adventure</td>\n",
       "      <td>19995</td>\n",
       "    </tr>\n",
       "  </tbody>\n",
       "</table>\n",
       "</div>"
      ],
      "text/plain": [
       "   genre_id       genre_name      id\n",
       "0        12        Adventure  299534\n",
       "1       878  Science Fiction  299534\n",
       "2        28           Action  299534\n",
       "3        28           Action   19995\n",
       "4        12        Adventure   19995"
      ]
     },
     "execution_count": 11,
     "metadata": {},
     "output_type": "execute_result"
    }
   ],
   "source": [
    "genres = pd.json_normalize(df,record_path=\"genres\", meta=\"id\", record_prefix=\"genre_\")\n",
    "genres.head()"
   ]
  },
  {
   "cell_type": "code",
   "execution_count": 12,
   "metadata": {},
   "outputs": [
    {
     "data": {
      "text/plain": [
       "{'adult': False,\n",
       " 'backdrop_path': '/orjiB3oUIsyz60hoEqkiGpy5CeO.jpg',\n",
       " 'belongs_to_collection': {'id': 86311,\n",
       "  'name': 'The Avengers Collection',\n",
       "  'poster_path': '/yFSIUVTCvgYrpalUktulvk3Gi5Y.jpg',\n",
       "  'backdrop_path': '/zuW6fOiusv4X9nnW3paHGfXcSll.jpg'},\n",
       " 'budget': 356000000,\n",
       " 'genres': [{'id': 12, 'name': 'Adventure'},\n",
       "  {'id': 878, 'name': 'Science Fiction'},\n",
       "  {'id': 28, 'name': 'Action'}],\n",
       " 'homepage': 'https://www.marvel.com/movies/avengers-endgame',\n",
       " 'id': 299534,\n",
       " 'imdb_id': 'tt4154796',\n",
       " 'original_language': 'en',\n",
       " 'original_title': 'Avengers: Endgame',\n",
       " 'overview': \"After the devastating events of Avengers: Infinity War, the universe is in ruins due to the efforts of the Mad Titan, Thanos. With the help of remaining allies, the Avengers must assemble once more in order to undo Thanos' actions and restore order to the universe once and for all, no matter what consequences may be in store.\",\n",
       " 'popularity': 50.279,\n",
       " 'poster_path': '/or06FN3Dka5tukK1e9sl16pB3iy.jpg',\n",
       " 'production_companies': [{'id': 420,\n",
       "   'logo_path': '/hUzeosd33nzE5MCNsZxCGEKTXaQ.png',\n",
       "   'name': 'Marvel Studios',\n",
       "   'origin_country': 'US'}],\n",
       " 'production_countries': [{'iso_3166_1': 'US',\n",
       "   'name': 'United States of America'}],\n",
       " 'release_date': '2019-04-24',\n",
       " 'revenue': 2797800564,\n",
       " 'runtime': 181,\n",
       " 'spoken_languages': [{'iso_639_1': 'en', 'name': 'English'},\n",
       "  {'iso_639_1': 'ja', 'name': '日本語'},\n",
       "  {'iso_639_1': 'xh', 'name': ''}],\n",
       " 'status': 'Released',\n",
       " 'tagline': 'Part of the journey is the end.',\n",
       " 'title': 'Avengers: Endgame',\n",
       " 'video': False,\n",
       " 'vote_average': 8.3,\n",
       " 'vote_count': 12607}"
      ]
     },
     "execution_count": 12,
     "metadata": {},
     "output_type": "execute_result"
    }
   ],
   "source": [
    "df[0]"
   ]
  },
  {
   "attachments": {},
   "cell_type": "markdown",
   "metadata": {},
   "source": [
    "__Dataset #4 (Prod)__ with columns [\"comp_id\", \"comp_logo_path\", \"comp_name\", \"comp_origin_country\", \"id\" ]. <br>\n"
   ]
  },
  {
   "cell_type": "code",
   "execution_count": 13,
   "metadata": {},
   "outputs": [
    {
     "data": {
      "text/html": [
       "<div>\n",
       "<style scoped>\n",
       "    .dataframe tbody tr th:only-of-type {\n",
       "        vertical-align: middle;\n",
       "    }\n",
       "\n",
       "    .dataframe tbody tr th {\n",
       "        vertical-align: top;\n",
       "    }\n",
       "\n",
       "    .dataframe thead th {\n",
       "        text-align: right;\n",
       "    }\n",
       "</style>\n",
       "<table border=\"1\" class=\"dataframe\">\n",
       "  <thead>\n",
       "    <tr style=\"text-align: right;\">\n",
       "      <th></th>\n",
       "      <th>comp_id</th>\n",
       "      <th>comp_logo_path</th>\n",
       "      <th>comp_name</th>\n",
       "      <th>comp_origin_country</th>\n",
       "      <th>id</th>\n",
       "    </tr>\n",
       "  </thead>\n",
       "  <tbody>\n",
       "    <tr>\n",
       "      <th>0</th>\n",
       "      <td>420</td>\n",
       "      <td>/hUzeosd33nzE5MCNsZxCGEKTXaQ.png</td>\n",
       "      <td>Marvel Studios</td>\n",
       "      <td>US</td>\n",
       "      <td>299534</td>\n",
       "    </tr>\n",
       "    <tr>\n",
       "      <th>1</th>\n",
       "      <td>444</td>\n",
       "      <td>/42UPdZl6B2cFXgNUASR8hSt9mpS.png</td>\n",
       "      <td>Dune Entertainment</td>\n",
       "      <td>US</td>\n",
       "      <td>19995</td>\n",
       "    </tr>\n",
       "    <tr>\n",
       "      <th>2</th>\n",
       "      <td>574</td>\n",
       "      <td>/iB6GjNVHs5hOqcEYt2rcjBqIjki.png</td>\n",
       "      <td>Lightstorm Entertainment</td>\n",
       "      <td>US</td>\n",
       "      <td>19995</td>\n",
       "    </tr>\n",
       "    <tr>\n",
       "      <th>3</th>\n",
       "      <td>25</td>\n",
       "      <td>/qZCc1lty5FzX30aOCVRBLzaVmcp.png</td>\n",
       "      <td>20th Century Fox</td>\n",
       "      <td>US</td>\n",
       "      <td>19995</td>\n",
       "    </tr>\n",
       "    <tr>\n",
       "      <th>4</th>\n",
       "      <td>290</td>\n",
       "      <td>/Q8mw2AOQQc8Qg0uNwLWq86DVZv.png</td>\n",
       "      <td>Ingenious Media</td>\n",
       "      <td>GB</td>\n",
       "      <td>19995</td>\n",
       "    </tr>\n",
       "  </tbody>\n",
       "</table>\n",
       "</div>"
      ],
      "text/plain": [
       "   comp_id                    comp_logo_path                 comp_name  \\\n",
       "0      420  /hUzeosd33nzE5MCNsZxCGEKTXaQ.png            Marvel Studios   \n",
       "1      444  /42UPdZl6B2cFXgNUASR8hSt9mpS.png        Dune Entertainment   \n",
       "2      574  /iB6GjNVHs5hOqcEYt2rcjBqIjki.png  Lightstorm Entertainment   \n",
       "3       25  /qZCc1lty5FzX30aOCVRBLzaVmcp.png          20th Century Fox   \n",
       "4      290   /Q8mw2AOQQc8Qg0uNwLWq86DVZv.png           Ingenious Media   \n",
       "\n",
       "  comp_origin_country      id  \n",
       "0                  US  299534  \n",
       "1                  US   19995  \n",
       "2                  US   19995  \n",
       "3                  US   19995  \n",
       "4                  GB   19995  "
      ]
     },
     "execution_count": 13,
     "metadata": {},
     "output_type": "execute_result"
    }
   ],
   "source": [
    "prod = pd.json_normalize(df,record_path='production_companies',meta='id',record_prefix='comp_')\n",
    "prod.head()"
   ]
  },
  {
   "attachments": {},
   "cell_type": "markdown",
   "metadata": {},
   "source": [
    "3. __Load__ the datasets __into the database__ (each dataset should be a separate table in the database). __Name__ the tables \"Movies\", \"Votes\", \"Genres\", \"Prod\"."
   ]
  },
  {
   "cell_type": "code",
   "execution_count": 14,
   "metadata": {},
   "outputs": [
    {
     "data": {
      "text/plain": [
       "18"
      ]
     },
     "execution_count": 14,
     "metadata": {},
     "output_type": "execute_result"
    }
   ],
   "source": [
    "movies.to_sql(\"Movies\",con = con,index = False,if_exists='replace')"
   ]
  },
  {
   "cell_type": "code",
   "execution_count": 15,
   "metadata": {},
   "outputs": [
    {
     "data": {
      "text/plain": [
       "52"
      ]
     },
     "execution_count": 15,
     "metadata": {},
     "output_type": "execute_result"
    }
   ],
   "source": [
    "votes.to_sql('Votes',con = con, index=False,if_exists='replace')\n",
    "genres.to_sql('Genres',con = con, index= False, if_exists='replace')\n",
    "prod.to_sql('Prod',con = con, index= False, if_exists='replace')\n"
   ]
  },
  {
   "cell_type": "code",
   "execution_count": 16,
   "metadata": {},
   "outputs": [
    {
     "data": {
      "text/plain": [
       "[('table',\n",
       "  'Movies',\n",
       "  'Movies',\n",
       "  2,\n",
       "  'CREATE TABLE \"Movies\" (\\n\"id\" INTEGER,\\n  \"title\" TEXT,\\n  \"revenue\" REAL,\\n  \"budget\" REAL,\\n  \"belongs_to_collection_name\" TEXT,\\n  \"release_date\" TIMESTAMP\\n)'),\n",
       " ('table',\n",
       "  'Votes',\n",
       "  'Votes',\n",
       "  3,\n",
       "  'CREATE TABLE \"Votes\" (\\n\"id\" INTEGER,\\n  \"vote_count\" INTEGER,\\n  \"vote_average\" REAL\\n)'),\n",
       " ('table',\n",
       "  'Genres',\n",
       "  'Genres',\n",
       "  4,\n",
       "  'CREATE TABLE \"Genres\" (\\n\"genre_id\" INTEGER,\\n  \"genre_name\" TEXT,\\n  \"id\" INTEGER\\n)'),\n",
       " ('table',\n",
       "  'Prod',\n",
       "  'Prod',\n",
       "  5,\n",
       "  'CREATE TABLE \"Prod\" (\\n\"comp_id\" INTEGER,\\n  \"comp_logo_path\" TEXT,\\n  \"comp_name\" TEXT,\\n  \"comp_origin_country\" TEXT,\\n  \"id\" INTEGER\\n)')]"
      ]
     },
     "execution_count": 16,
     "metadata": {},
     "output_type": "execute_result"
    }
   ],
   "source": [
    "con.execute('select * from sqlite_master').fetchall()"
   ]
  },
  {
   "attachments": {},
   "cell_type": "markdown",
   "metadata": {},
   "source": [
    "## Loading Data from SQLite Databases into DataFrames"
   ]
  },
  {
   "attachments": {},
   "cell_type": "markdown",
   "metadata": {},
   "source": [
    "4. __Load__ the full tables \"Movies\", \"Votes\", \"Genres\", \"Prod\" from \"movies.db\" into Pandas (four DataFrames). __Set__ \"id\" as Index. "
   ]
  },
  {
   "cell_type": "code",
   "execution_count": 17,
   "metadata": {},
   "outputs": [
    {
     "data": {
      "text/html": [
       "<div>\n",
       "<style scoped>\n",
       "    .dataframe tbody tr th:only-of-type {\n",
       "        vertical-align: middle;\n",
       "    }\n",
       "\n",
       "    .dataframe tbody tr th {\n",
       "        vertical-align: top;\n",
       "    }\n",
       "\n",
       "    .dataframe thead th {\n",
       "        text-align: right;\n",
       "    }\n",
       "</style>\n",
       "<table border=\"1\" class=\"dataframe\">\n",
       "  <thead>\n",
       "    <tr style=\"text-align: right;\">\n",
       "      <th></th>\n",
       "      <th>title</th>\n",
       "      <th>revenue</th>\n",
       "      <th>budget</th>\n",
       "      <th>belongs_to_collection_name</th>\n",
       "      <th>release_date</th>\n",
       "    </tr>\n",
       "    <tr>\n",
       "      <th>id</th>\n",
       "      <th></th>\n",
       "      <th></th>\n",
       "      <th></th>\n",
       "      <th></th>\n",
       "      <th></th>\n",
       "    </tr>\n",
       "  </thead>\n",
       "  <tbody>\n",
       "    <tr>\n",
       "      <th>299534</th>\n",
       "      <td>Avengers: Endgame</td>\n",
       "      <td>2797.800564</td>\n",
       "      <td>356.0</td>\n",
       "      <td>The Avengers Collection</td>\n",
       "      <td>2019-04-24 00:00:00</td>\n",
       "    </tr>\n",
       "    <tr>\n",
       "      <th>19995</th>\n",
       "      <td>Avatar</td>\n",
       "      <td>2787.965087</td>\n",
       "      <td>237.0</td>\n",
       "      <td>Avatar Collection</td>\n",
       "      <td>2009-12-10 00:00:00</td>\n",
       "    </tr>\n",
       "    <tr>\n",
       "      <th>140607</th>\n",
       "      <td>Star Wars: The Force Awakens</td>\n",
       "      <td>2068.223624</td>\n",
       "      <td>245.0</td>\n",
       "      <td>Star Wars Collection</td>\n",
       "      <td>2015-12-15 00:00:00</td>\n",
       "    </tr>\n",
       "    <tr>\n",
       "      <th>299536</th>\n",
       "      <td>Avengers: Infinity War</td>\n",
       "      <td>2046.239637</td>\n",
       "      <td>300.0</td>\n",
       "      <td>The Avengers Collection</td>\n",
       "      <td>2018-04-25 00:00:00</td>\n",
       "    </tr>\n",
       "    <tr>\n",
       "      <th>597</th>\n",
       "      <td>Titanic</td>\n",
       "      <td>1845.034188</td>\n",
       "      <td>200.0</td>\n",
       "      <td>None</td>\n",
       "      <td>1997-11-18 00:00:00</td>\n",
       "    </tr>\n",
       "  </tbody>\n",
       "</table>\n",
       "</div>"
      ],
      "text/plain": [
       "                               title      revenue  budget  \\\n",
       "id                                                          \n",
       "299534             Avengers: Endgame  2797.800564   356.0   \n",
       "19995                         Avatar  2787.965087   237.0   \n",
       "140607  Star Wars: The Force Awakens  2068.223624   245.0   \n",
       "299536        Avengers: Infinity War  2046.239637   300.0   \n",
       "597                          Titanic  1845.034188   200.0   \n",
       "\n",
       "       belongs_to_collection_name         release_date  \n",
       "id                                                      \n",
       "299534    The Avengers Collection  2019-04-24 00:00:00  \n",
       "19995           Avatar Collection  2009-12-10 00:00:00  \n",
       "140607       Star Wars Collection  2015-12-15 00:00:00  \n",
       "299536    The Avengers Collection  2018-04-25 00:00:00  \n",
       "597                          None  1997-11-18 00:00:00  "
      ]
     },
     "execution_count": 17,
     "metadata": {},
     "output_type": "execute_result"
    }
   ],
   "source": [
    "movie = pd.read_sql('select * from Movies',con, index_col='id')\n",
    "movie.head()"
   ]
  },
  {
   "cell_type": "code",
   "execution_count": 18,
   "metadata": {},
   "outputs": [],
   "source": [
    "vote = pd.read_sql(\"select * from Votes\",con, index_col='id')\n",
    "genre = pd.read_sql('select * from Genres',con, index_col='id')\n",
    "prod = pd.read_sql('select * from Prod',con, index_col='id')\n"
   ]
  },
  {
   "attachments": {},
   "cell_type": "markdown",
   "metadata": {},
   "source": [
    "##  Some Simple SQL Queries"
   ]
  },
  {
   "attachments": {},
   "cell_type": "markdown",
   "metadata": {},
   "source": [
    "5. __Perform__ the following simple __SQL Queries__ and __store__ the results in DataFrames:"
   ]
  },
  {
   "attachments": {},
   "cell_type": "markdown",
   "metadata": {},
   "source": [
    "__Load the full \"Movies\" Table__."
   ]
  },
  {
   "cell_type": "code",
   "execution_count": 19,
   "metadata": {},
   "outputs": [],
   "source": [
    "movie1 = pd.read_sql('select * from Movies',con)"
   ]
  },
  {
   "attachments": {},
   "cell_type": "markdown",
   "metadata": {},
   "source": [
    "__Load the columns \"id\", \"revenue\" and \"release_date\" from \"Movies\".__ "
   ]
  },
  {
   "cell_type": "code",
   "execution_count": 20,
   "metadata": {},
   "outputs": [
    {
     "data": {
      "text/html": [
       "<div>\n",
       "<style scoped>\n",
       "    .dataframe tbody tr th:only-of-type {\n",
       "        vertical-align: middle;\n",
       "    }\n",
       "\n",
       "    .dataframe tbody tr th {\n",
       "        vertical-align: top;\n",
       "    }\n",
       "\n",
       "    .dataframe thead th {\n",
       "        text-align: right;\n",
       "    }\n",
       "</style>\n",
       "<table border=\"1\" class=\"dataframe\">\n",
       "  <thead>\n",
       "    <tr style=\"text-align: right;\">\n",
       "      <th></th>\n",
       "      <th>id</th>\n",
       "      <th>revenue</th>\n",
       "      <th>release_date</th>\n",
       "    </tr>\n",
       "  </thead>\n",
       "  <tbody>\n",
       "    <tr>\n",
       "      <th>0</th>\n",
       "      <td>299534</td>\n",
       "      <td>2797.800564</td>\n",
       "      <td>2019-04-24 00:00:00</td>\n",
       "    </tr>\n",
       "    <tr>\n",
       "      <th>1</th>\n",
       "      <td>19995</td>\n",
       "      <td>2787.965087</td>\n",
       "      <td>2009-12-10 00:00:00</td>\n",
       "    </tr>\n",
       "    <tr>\n",
       "      <th>2</th>\n",
       "      <td>140607</td>\n",
       "      <td>2068.223624</td>\n",
       "      <td>2015-12-15 00:00:00</td>\n",
       "    </tr>\n",
       "    <tr>\n",
       "      <th>3</th>\n",
       "      <td>299536</td>\n",
       "      <td>2046.239637</td>\n",
       "      <td>2018-04-25 00:00:00</td>\n",
       "    </tr>\n",
       "    <tr>\n",
       "      <th>4</th>\n",
       "      <td>597</td>\n",
       "      <td>1845.034188</td>\n",
       "      <td>1997-11-18 00:00:00</td>\n",
       "    </tr>\n",
       "  </tbody>\n",
       "</table>\n",
       "</div>"
      ],
      "text/plain": [
       "       id      revenue         release_date\n",
       "0  299534  2797.800564  2019-04-24 00:00:00\n",
       "1   19995  2787.965087  2009-12-10 00:00:00\n",
       "2  140607  2068.223624  2015-12-15 00:00:00\n",
       "3  299536  2046.239637  2018-04-25 00:00:00\n",
       "4     597  1845.034188  1997-11-18 00:00:00"
      ]
     },
     "execution_count": 20,
     "metadata": {},
     "output_type": "execute_result"
    }
   ],
   "source": [
    "movie2 = pd.read_sql('select id, revenue, release_date from Movies',con)\n",
    "movie2.head()"
   ]
  },
  {
   "attachments": {},
   "cell_type": "markdown",
   "metadata": {},
   "source": [
    "__Get the Total Revenue (sum) over all movies from \"Movies\".__"
   ]
  },
  {
   "cell_type": "code",
   "execution_count": 21,
   "metadata": {},
   "outputs": [
    {
     "data": {
      "text/html": [
       "<div>\n",
       "<style scoped>\n",
       "    .dataframe tbody tr th:only-of-type {\n",
       "        vertical-align: middle;\n",
       "    }\n",
       "\n",
       "    .dataframe tbody tr th {\n",
       "        vertical-align: top;\n",
       "    }\n",
       "\n",
       "    .dataframe thead th {\n",
       "        text-align: right;\n",
       "    }\n",
       "</style>\n",
       "<table border=\"1\" class=\"dataframe\">\n",
       "  <thead>\n",
       "    <tr style=\"text-align: right;\">\n",
       "      <th></th>\n",
       "      <th>sum(revenue)</th>\n",
       "    </tr>\n",
       "  </thead>\n",
       "  <tbody>\n",
       "    <tr>\n",
       "      <th>0</th>\n",
       "      <td>29748.575327</td>\n",
       "    </tr>\n",
       "  </tbody>\n",
       "</table>\n",
       "</div>"
      ],
      "text/plain": [
       "   sum(revenue)\n",
       "0  29748.575327"
      ]
     },
     "execution_count": 21,
     "metadata": {},
     "output_type": "execute_result"
    }
   ],
   "source": [
    "movie3 = pd.read_sql('select sum(revenue) from Movies', con)\n",
    "movie3"
   ]
  },
  {
   "attachments": {},
   "cell_type": "markdown",
   "metadata": {},
   "source": [
    "__Count the number of Movies in \"Movies\".__"
   ]
  },
  {
   "cell_type": "code",
   "execution_count": 22,
   "metadata": {},
   "outputs": [
    {
     "data": {
      "text/html": [
       "<div>\n",
       "<style scoped>\n",
       "    .dataframe tbody tr th:only-of-type {\n",
       "        vertical-align: middle;\n",
       "    }\n",
       "\n",
       "    .dataframe tbody tr th {\n",
       "        vertical-align: top;\n",
       "    }\n",
       "\n",
       "    .dataframe thead th {\n",
       "        text-align: right;\n",
       "    }\n",
       "</style>\n",
       "<table border=\"1\" class=\"dataframe\">\n",
       "  <thead>\n",
       "    <tr style=\"text-align: right;\">\n",
       "      <th></th>\n",
       "      <th>count(distinct id)</th>\n",
       "    </tr>\n",
       "  </thead>\n",
       "  <tbody>\n",
       "    <tr>\n",
       "      <th>0</th>\n",
       "      <td>18</td>\n",
       "    </tr>\n",
       "  </tbody>\n",
       "</table>\n",
       "</div>"
      ],
      "text/plain": [
       "   count(distinct id)\n",
       "0                  18"
      ]
     },
     "execution_count": 22,
     "metadata": {},
     "output_type": "execute_result"
    }
   ],
   "source": [
    "movie4 = pd.read_sql('select count(distinct id) from Movies', con )\n",
    "movie4"
   ]
  },
  {
   "attachments": {},
   "cell_type": "markdown",
   "metadata": {},
   "source": [
    "__Count the number of Movies that do belong to a collection.__"
   ]
  },
  {
   "cell_type": "code",
   "execution_count": 23,
   "metadata": {},
   "outputs": [
    {
     "data": {
      "text/html": [
       "<div>\n",
       "<style scoped>\n",
       "    .dataframe tbody tr th:only-of-type {\n",
       "        vertical-align: middle;\n",
       "    }\n",
       "\n",
       "    .dataframe tbody tr th {\n",
       "        vertical-align: top;\n",
       "    }\n",
       "\n",
       "    .dataframe thead th {\n",
       "        text-align: right;\n",
       "    }\n",
       "</style>\n",
       "<table border=\"1\" class=\"dataframe\">\n",
       "  <thead>\n",
       "    <tr style=\"text-align: right;\">\n",
       "      <th></th>\n",
       "      <th>count(distinct id)</th>\n",
       "    </tr>\n",
       "  </thead>\n",
       "  <tbody>\n",
       "    <tr>\n",
       "      <th>0</th>\n",
       "      <td>15</td>\n",
       "    </tr>\n",
       "  </tbody>\n",
       "</table>\n",
       "</div>"
      ],
      "text/plain": [
       "   count(distinct id)\n",
       "0                  15"
      ]
     },
     "execution_count": 23,
     "metadata": {},
     "output_type": "execute_result"
    }
   ],
   "source": [
    "movie5 = pd.read_sql('select count(distinct id) from Movies\\\n",
    "                     where belongs_to_collection_name != \"None\"', con )\n",
    "movie5"
   ]
  },
  {
   "attachments": {},
   "cell_type": "markdown",
   "metadata": {},
   "source": [
    "__Get the average budget from \"Movies\"__."
   ]
  },
  {
   "cell_type": "code",
   "execution_count": 24,
   "metadata": {},
   "outputs": [
    {
     "data": {
      "text/html": [
       "<div>\n",
       "<style scoped>\n",
       "    .dataframe tbody tr th:only-of-type {\n",
       "        vertical-align: middle;\n",
       "    }\n",
       "\n",
       "    .dataframe tbody tr th {\n",
       "        vertical-align: top;\n",
       "    }\n",
       "\n",
       "    .dataframe thead th {\n",
       "        text-align: right;\n",
       "    }\n",
       "</style>\n",
       "<table border=\"1\" class=\"dataframe\">\n",
       "  <thead>\n",
       "    <tr style=\"text-align: right;\">\n",
       "      <th></th>\n",
       "      <th>avg(budget)</th>\n",
       "    </tr>\n",
       "  </thead>\n",
       "  <tbody>\n",
       "    <tr>\n",
       "      <th>0</th>\n",
       "      <td>209.055556</td>\n",
       "    </tr>\n",
       "  </tbody>\n",
       "</table>\n",
       "</div>"
      ],
      "text/plain": [
       "   avg(budget)\n",
       "0   209.055556"
      ]
     },
     "execution_count": 24,
     "metadata": {},
     "output_type": "execute_result"
    }
   ],
   "source": [
    "movie6 = pd.read_sql('select avg(budget) from Movies',con)\n",
    "movie6"
   ]
  },
  {
   "attachments": {},
   "cell_type": "markdown",
   "metadata": {},
   "source": [
    "## Some more SQL Queries"
   ]
  },
  {
   "attachments": {},
   "cell_type": "markdown",
   "metadata": {},
   "source": [
    "6. __Perform__ the following advanced __SQL Queries__ and __store__ the results in DataFrames:"
   ]
  },
  {
   "attachments": {},
   "cell_type": "markdown",
   "metadata": {},
   "source": [
    "__Load all columns for the movie with movie id 597__."
   ]
  },
  {
   "cell_type": "code",
   "execution_count": 25,
   "metadata": {},
   "outputs": [
    {
     "data": {
      "text/plain": [
       "[(597, 'Titanic', 1845.034188, 200.0, None, '1997-11-18 00:00:00')]"
      ]
     },
     "execution_count": 25,
     "metadata": {},
     "output_type": "execute_result"
    }
   ],
   "source": [
    "con.execute('select * from Movies where id = 597').fetchall()"
   ]
  },
  {
   "attachments": {},
   "cell_type": "markdown",
   "metadata": {},
   "source": [
    "__Load all columns for all movies with a revenue greater than 2000 (MUSD).__"
   ]
  },
  {
   "cell_type": "code",
   "execution_count": 26,
   "metadata": {},
   "outputs": [
    {
     "data": {
      "text/plain": [
       "[(299534,\n",
       "  'Avengers: Endgame',\n",
       "  2797.800564,\n",
       "  356.0,\n",
       "  'The Avengers Collection',\n",
       "  '2019-04-24 00:00:00'),\n",
       " (19995,\n",
       "  'Avatar',\n",
       "  2787.965087,\n",
       "  237.0,\n",
       "  'Avatar Collection',\n",
       "  '2009-12-10 00:00:00'),\n",
       " (140607,\n",
       "  'Star Wars: The Force Awakens',\n",
       "  2068.223624,\n",
       "  245.0,\n",
       "  'Star Wars Collection',\n",
       "  '2015-12-15 00:00:00'),\n",
       " (299536,\n",
       "  'Avengers: Infinity War',\n",
       "  2046.239637,\n",
       "  300.0,\n",
       "  'The Avengers Collection',\n",
       "  '2018-04-25 00:00:00')]"
      ]
     },
     "execution_count": 26,
     "metadata": {},
     "output_type": "execute_result"
    }
   ],
   "source": [
    "con.execute('select * from Movies where revenue > 2000').fetchall()"
   ]
  },
  {
   "attachments": {},
   "cell_type": "markdown",
   "metadata": {},
   "source": [
    "__Load all columns for all movies with a revenue greater than 1500 (MUSD) and a budget below 200 (MUSD).__"
   ]
  },
  {
   "cell_type": "code",
   "execution_count": 27,
   "metadata": {},
   "outputs": [
    {
     "data": {
      "text/plain": [
       "[(135397,\n",
       "  'Jurassic World',\n",
       "  1671.713208,\n",
       "  150.0,\n",
       "  'Jurassic Park Collection',\n",
       "  '2015-06-06 00:00:00'),\n",
       " (168259,\n",
       "  'Furious 7',\n",
       "  1515.047671,\n",
       "  190.0,\n",
       "  'The Fast and the Furious Collection',\n",
       "  '2015-04-01 00:00:00')]"
      ]
     },
     "execution_count": 27,
     "metadata": {},
     "output_type": "execute_result"
    }
   ],
   "source": [
    "con.execute('select * from Movies where revenue > 1500 and budget < 200').fetchall()"
   ]
  },
  {
   "attachments": {},
   "cell_type": "markdown",
   "metadata": {},
   "source": [
    "__Get the minimum budget from those movies with a revenue greater than 1250 (MUSD).__"
   ]
  },
  {
   "cell_type": "code",
   "execution_count": 28,
   "metadata": {},
   "outputs": [
    {
     "data": {
      "text/plain": [
       "[(125.0,)]"
      ]
     },
     "execution_count": 28,
     "metadata": {},
     "output_type": "execute_result"
    }
   ],
   "source": [
    "con.execute('select min(budget) from Movies where revenue > 1250').fetchall()"
   ]
  },
  {
   "attachments": {},
   "cell_type": "markdown",
   "metadata": {},
   "source": [
    "__Get all unique collection Names from \"Movies\".__"
   ]
  },
  {
   "cell_type": "code",
   "execution_count": 29,
   "metadata": {},
   "outputs": [
    {
     "data": {
      "text/plain": [
       "[('The Avengers Collection',),\n",
       " ('Avatar Collection',),\n",
       " ('Star Wars Collection',),\n",
       " (None,),\n",
       " ('Jurassic Park Collection',),\n",
       " ('The Fast and the Furious Collection',),\n",
       " ('Black Panther Collection',),\n",
       " ('Harry Potter Collection',),\n",
       " ('Frozen Collection',),\n",
       " ('The Incredibles Collection',)]"
      ]
     },
     "execution_count": 29,
     "metadata": {},
     "output_type": "execute_result"
    }
   ],
   "source": [
    "con.execute('select distinct(belongs_to_collection_name) from Movies').fetchall()"
   ]
  },
  {
   "attachments": {},
   "cell_type": "markdown",
   "metadata": {},
   "source": [
    "__Load all movies (all columns) and sort by budget from high to low.__"
   ]
  },
  {
   "cell_type": "code",
   "execution_count": 30,
   "metadata": {},
   "outputs": [
    {
     "data": {
      "text/plain": [
       "[(299534,\n",
       "  'Avengers: Endgame',\n",
       "  2797.800564,\n",
       "  356.0,\n",
       "  'The Avengers Collection',\n",
       "  '2019-04-24 00:00:00'),\n",
       " (299536,\n",
       "  'Avengers: Infinity War',\n",
       "  2046.239637,\n",
       "  300.0,\n",
       "  'The Avengers Collection',\n",
       "  '2018-04-25 00:00:00'),\n",
       " (420818, 'The Lion King', 1656.943394, 260.0, None, '2019-07-12 00:00:00'),\n",
       " (99861,\n",
       "  'Avengers: Age of Ultron',\n",
       "  1405.403694,\n",
       "  250.0,\n",
       "  'The Avengers Collection',\n",
       "  '2015-04-22 00:00:00'),\n",
       " (140607,\n",
       "  'Star Wars: The Force Awakens',\n",
       "  2068.223624,\n",
       "  245.0,\n",
       "  'Star Wars Collection',\n",
       "  '2015-12-15 00:00:00'),\n",
       " (19995,\n",
       "  'Avatar',\n",
       "  2787.965087,\n",
       "  237.0,\n",
       "  'Avatar Collection',\n",
       "  '2009-12-10 00:00:00'),\n",
       " (24428,\n",
       "  'The Avengers',\n",
       "  1519.55791,\n",
       "  220.0,\n",
       "  'The Avengers Collection',\n",
       "  '2012-04-25 00:00:00'),\n",
       " (597, 'Titanic', 1845.034188, 200.0, None, '1997-11-18 00:00:00'),\n",
       " (284054,\n",
       "  'Black Panther',\n",
       "  1346.739107,\n",
       "  200.0,\n",
       "  'Black Panther Collection',\n",
       "  '2018-02-13 00:00:00'),\n",
       " (181808,\n",
       "  'Star Wars: The Last Jedi',\n",
       "  1332.539889,\n",
       "  200.0,\n",
       "  'Star Wars Collection',\n",
       "  '2017-12-13 00:00:00'),\n",
       " (260513,\n",
       "  'Incredibles 2',\n",
       "  1241.891456,\n",
       "  200.0,\n",
       "  'The Incredibles Collection',\n",
       "  '2018-06-14 00:00:00'),\n",
       " (168259,\n",
       "  'Furious 7',\n",
       "  1515.047671,\n",
       "  190.0,\n",
       "  'The Fast and the Furious Collection',\n",
       "  '2015-04-01 00:00:00'),\n",
       " (351286,\n",
       "  'Jurassic World: Fallen Kingdom',\n",
       "  1303.459585,\n",
       "  170.0,\n",
       "  'Jurassic Park Collection',\n",
       "  '2018-06-06 00:00:00'),\n",
       " (321612,\n",
       "  'Beauty and the Beast',\n",
       "  1263.521126,\n",
       "  160.0,\n",
       "  None,\n",
       "  '2017-03-16 00:00:00'),\n",
       " (135397,\n",
       "  'Jurassic World',\n",
       "  1671.713208,\n",
       "  150.0,\n",
       "  'Jurassic Park Collection',\n",
       "  '2015-06-06 00:00:00'),\n",
       " (330457,\n",
       "  'Frozen II',\n",
       "  1330.764959,\n",
       "  150.0,\n",
       "  'Frozen Collection',\n",
       "  '2019-11-20 00:00:00'),\n",
       " (109445,\n",
       "  'Frozen',\n",
       "  1274.219009,\n",
       "  150.0,\n",
       "  'Frozen Collection',\n",
       "  '2013-11-27 00:00:00'),\n",
       " (12445,\n",
       "  'Harry Potter and the Deathly Hallows: Part 2',\n",
       "  1341.511219,\n",
       "  125.0,\n",
       "  'Harry Potter Collection',\n",
       "  '2011-07-07 00:00:00')]"
      ]
     },
     "execution_count": 30,
     "metadata": {},
     "output_type": "execute_result"
    }
   ],
   "source": [
    "con.execute('select * from Movies order by budget desc').fetchall()"
   ]
  },
  {
   "attachments": {},
   "cell_type": "markdown",
   "metadata": {},
   "source": [
    "__Load all movies (all columns) that do not belong to a collection.__"
   ]
  },
  {
   "cell_type": "code",
   "execution_count": null,
   "metadata": {},
   "outputs": [],
   "source": []
  },
  {
   "attachments": {},
   "cell_type": "markdown",
   "metadata": {},
   "source": [
    "__Load all movies (all columns) that belong to a collection.__"
   ]
  },
  {
   "cell_type": "code",
   "execution_count": null,
   "metadata": {},
   "outputs": [],
   "source": []
  },
  {
   "attachments": {},
   "cell_type": "markdown",
   "metadata": {},
   "source": [
    "__Load all movies (all columns) where \"Avengers...\" is in the title__."
   ]
  },
  {
   "cell_type": "code",
   "execution_count": 31,
   "metadata": {},
   "outputs": [
    {
     "data": {
      "text/plain": [
       "[(299534,\n",
       "  'Avengers: Endgame',\n",
       "  2797.800564,\n",
       "  356.0,\n",
       "  'The Avengers Collection',\n",
       "  '2019-04-24 00:00:00'),\n",
       " (299536,\n",
       "  'Avengers: Infinity War',\n",
       "  2046.239637,\n",
       "  300.0,\n",
       "  'The Avengers Collection',\n",
       "  '2018-04-25 00:00:00'),\n",
       " (24428,\n",
       "  'The Avengers',\n",
       "  1519.55791,\n",
       "  220.0,\n",
       "  'The Avengers Collection',\n",
       "  '2012-04-25 00:00:00'),\n",
       " (99861,\n",
       "  'Avengers: Age of Ultron',\n",
       "  1405.403694,\n",
       "  250.0,\n",
       "  'The Avengers Collection',\n",
       "  '2015-04-22 00:00:00')]"
      ]
     },
     "execution_count": 31,
     "metadata": {},
     "output_type": "execute_result"
    }
   ],
   "source": [
    "con.execute('select * from Movies where title like \"%Avengers%\"').fetchall()"
   ]
  },
  {
   "attachments": {},
   "cell_type": "markdown",
   "metadata": {},
   "source": [
    "## Join Queries"
   ]
  },
  {
   "attachments": {},
   "cell_type": "markdown",
   "metadata": {},
   "source": [
    "7. __Perform__ the following __SQL Join Queries__ and __store__ the results in DataFrames:"
   ]
  },
  {
   "attachments": {},
   "cell_type": "markdown",
   "metadata": {},
   "source": [
    "__Join \"Movies\" and \"Votes\"__ (all columns)."
   ]
  },
  {
   "cell_type": "code",
   "execution_count": 33,
   "metadata": {},
   "outputs": [
    {
     "data": {
      "text/plain": [
       "[(299534,\n",
       "  'Avengers: Endgame',\n",
       "  2797.800564,\n",
       "  356.0,\n",
       "  'The Avengers Collection',\n",
       "  '2019-04-24 00:00:00',\n",
       "  12607,\n",
       "  8.3),\n",
       " (19995,\n",
       "  'Avatar',\n",
       "  2787.965087,\n",
       "  237.0,\n",
       "  'Avatar Collection',\n",
       "  '2009-12-10 00:00:00',\n",
       "  21000,\n",
       "  7.4),\n",
       " (140607,\n",
       "  'Star Wars: The Force Awakens',\n",
       "  2068.223624,\n",
       "  245.0,\n",
       "  'Star Wars Collection',\n",
       "  '2015-12-15 00:00:00',\n",
       "  14205,\n",
       "  7.4),\n",
       " (299536,\n",
       "  'Avengers: Infinity War',\n",
       "  2046.239637,\n",
       "  300.0,\n",
       "  'The Avengers Collection',\n",
       "  '2018-04-25 00:00:00',\n",
       "  17718,\n",
       "  8.3),\n",
       " (597, 'Titanic', 1845.034188, 200.0, None, '1997-11-18 00:00:00', 16661, 7.8),\n",
       " (135397,\n",
       "  'Jurassic World',\n",
       "  1671.713208,\n",
       "  150.0,\n",
       "  'Jurassic Park Collection',\n",
       "  '2015-06-06 00:00:00',\n",
       "  15399,\n",
       "  6.6),\n",
       " (420818,\n",
       "  'The Lion King',\n",
       "  1656.943394,\n",
       "  260.0,\n",
       "  None,\n",
       "  '2019-07-12 00:00:00',\n",
       "  5425,\n",
       "  7.2),\n",
       " (24428,\n",
       "  'The Avengers',\n",
       "  1519.55791,\n",
       "  220.0,\n",
       "  'The Avengers Collection',\n",
       "  '2012-04-25 00:00:00',\n",
       "  22101,\n",
       "  7.7),\n",
       " (168259,\n",
       "  'Furious 7',\n",
       "  1515.047671,\n",
       "  190.0,\n",
       "  'The Fast and the Furious Collection',\n",
       "  '2015-04-01 00:00:00',\n",
       "  7359,\n",
       "  7.3),\n",
       " (99861,\n",
       "  'Avengers: Age of Ultron',\n",
       "  1405.403694,\n",
       "  250.0,\n",
       "  'The Avengers Collection',\n",
       "  '2015-04-22 00:00:00',\n",
       "  15548,\n",
       "  7.3),\n",
       " (284054,\n",
       "  'Black Panther',\n",
       "  1346.739107,\n",
       "  200.0,\n",
       "  'Black Panther Collection',\n",
       "  '2018-02-13 00:00:00',\n",
       "  14830,\n",
       "  7.4),\n",
       " (12445,\n",
       "  'Harry Potter and the Deathly Hallows: Part 2',\n",
       "  1341.511219,\n",
       "  125.0,\n",
       "  'Harry Potter Collection',\n",
       "  '2011-07-07 00:00:00',\n",
       "  13447,\n",
       "  8.1),\n",
       " (181808,\n",
       "  'Star Wars: The Last Jedi',\n",
       "  1332.539889,\n",
       "  200.0,\n",
       "  'Star Wars Collection',\n",
       "  '2017-12-13 00:00:00',\n",
       "  10304,\n",
       "  7.0),\n",
       " (330457,\n",
       "  'Frozen II',\n",
       "  1330.764959,\n",
       "  150.0,\n",
       "  'Frozen Collection',\n",
       "  '2019-11-20 00:00:00',\n",
       "  3982,\n",
       "  7.2),\n",
       " (351286,\n",
       "  'Jurassic World: Fallen Kingdom',\n",
       "  1303.459585,\n",
       "  170.0,\n",
       "  'Jurassic Park Collection',\n",
       "  '2018-06-06 00:00:00',\n",
       "  7337,\n",
       "  6.5),\n",
       " (109445,\n",
       "  'Frozen',\n",
       "  1274.219009,\n",
       "  150.0,\n",
       "  'Frozen Collection',\n",
       "  '2013-11-27 00:00:00',\n",
       "  11616,\n",
       "  7.3),\n",
       " (321612,\n",
       "  'Beauty and the Beast',\n",
       "  1263.521126,\n",
       "  160.0,\n",
       "  None,\n",
       "  '2017-03-16 00:00:00',\n",
       "  12203,\n",
       "  6.9),\n",
       " (260513,\n",
       "  'Incredibles 2',\n",
       "  1241.891456,\n",
       "  200.0,\n",
       "  'The Incredibles Collection',\n",
       "  '2018-06-14 00:00:00',\n",
       "  8147,\n",
       "  7.5)]"
      ]
     },
     "execution_count": 33,
     "metadata": {},
     "output_type": "execute_result"
    }
   ],
   "source": [
    "con.execute('select * from Movies natural join Votes').fetchall()"
   ]
  },
  {
   "attachments": {},
   "cell_type": "markdown",
   "metadata": {},
   "source": [
    "__Join \"Movies\" and \"Votes\" (only the columns \"id\", \"title\", \"vote_average\").__"
   ]
  },
  {
   "cell_type": "code",
   "execution_count": 34,
   "metadata": {},
   "outputs": [
    {
     "data": {
      "text/plain": [
       "[(299534, 'Avengers: Endgame', 8.3),\n",
       " (19995, 'Avatar', 7.4),\n",
       " (140607, 'Star Wars: The Force Awakens', 7.4),\n",
       " (299536, 'Avengers: Infinity War', 8.3),\n",
       " (597, 'Titanic', 7.8),\n",
       " (135397, 'Jurassic World', 6.6),\n",
       " (420818, 'The Lion King', 7.2),\n",
       " (24428, 'The Avengers', 7.7),\n",
       " (168259, 'Furious 7', 7.3),\n",
       " (99861, 'Avengers: Age of Ultron', 7.3),\n",
       " (284054, 'Black Panther', 7.4),\n",
       " (12445, 'Harry Potter and the Deathly Hallows: Part 2', 8.1),\n",
       " (181808, 'Star Wars: The Last Jedi', 7.0),\n",
       " (330457, 'Frozen II', 7.2),\n",
       " (351286, 'Jurassic World: Fallen Kingdom', 6.5),\n",
       " (109445, 'Frozen', 7.3),\n",
       " (321612, 'Beauty and the Beast', 6.9),\n",
       " (260513, 'Incredibles 2', 7.5)]"
      ]
     },
     "execution_count": 34,
     "metadata": {},
     "output_type": "execute_result"
    }
   ],
   "source": [
    "con.execute('select id, title, vote_average from Movies natural join Votes').fetchall()"
   ]
  },
  {
   "attachments": {},
   "cell_type": "markdown",
   "metadata": {},
   "source": [
    "__Join \"Movies\" and \"Votes\" (only the columns \"id\", \"title\", \"vote_average\") and return only those movies with vote_average > 8.__"
   ]
  },
  {
   "cell_type": "code",
   "execution_count": 35,
   "metadata": {},
   "outputs": [
    {
     "data": {
      "text/plain": [
       "[(299534, 'Avengers: Endgame', 8.3),\n",
       " (299536, 'Avengers: Infinity War', 8.3),\n",
       " (12445, 'Harry Potter and the Deathly Hallows: Part 2', 8.1)]"
      ]
     },
     "execution_count": 35,
     "metadata": {},
     "output_type": "execute_result"
    }
   ],
   "source": [
    "con.execute('select id, title, vote_average from Movies natural join Votes where vote_average > 8').fetchall()"
   ]
  },
  {
   "attachments": {},
   "cell_type": "markdown",
   "metadata": {},
   "source": [
    "__Join \"Movies\" and \"Votes\" (only the columns \"id\", \"title\", \"vote_average\") and return only those movies with vote_average > 8 and in ascending budget order__."
   ]
  },
  {
   "cell_type": "code",
   "execution_count": 36,
   "metadata": {},
   "outputs": [
    {
     "data": {
      "text/plain": [
       "[(12445, 'Harry Potter and the Deathly Hallows: Part 2', 8.1),\n",
       " (299536, 'Avengers: Infinity War', 8.3),\n",
       " (299534, 'Avengers: Endgame', 8.3)]"
      ]
     },
     "execution_count": 36,
     "metadata": {},
     "output_type": "execute_result"
    }
   ],
   "source": [
    "con.execute('select id, title, vote_average\\\n",
    "             from Movies natural join Votes\\\n",
    "             where vote_average > 8\\\n",
    "             order by budget asc').fetchall()"
   ]
  },
  {
   "attachments": {},
   "cell_type": "markdown",
   "metadata": {},
   "source": [
    "## Final Case Study"
   ]
  },
  {
   "attachments": {},
   "cell_type": "markdown",
   "metadata": {},
   "source": [
    "8. __Perform__ the following advanced __SQL Queries__ and __store__ the results in DataFrames:"
   ]
  },
  {
   "attachments": {},
   "cell_type": "markdown",
   "metadata": {},
   "source": [
    "__Get the Total Revenue (sum) for each Production Company.__"
   ]
  },
  {
   "cell_type": "code",
   "execution_count": 38,
   "metadata": {},
   "outputs": [
    {
     "data": {
      "text/plain": [
       "[('20th Century Fox', 4632.999275),\n",
       " ('Abu Dhabi Film Commission', 1515.047671),\n",
       " ('Amblin Entertainment', 2975.1727929999997),\n",
       " ('Bad Robot', 2068.223624),\n",
       " ('China Film Co.', 1515.047671),\n",
       " ('Colorado Office of Film, Television & Media', 1515.047671),\n",
       " ('Dentsu', 3186.760879),\n",
       " ('Dune Entertainment', 2787.965087),\n",
       " ('Fairview Entertainment', 1656.943394),\n",
       " ('Fuji Television Network', 3186.760879),\n",
       " ('Heyday Films', 1341.511219),\n",
       " ('Ingenious Media', 2787.965087),\n",
       " ('Legendary Entertainment', 2975.1727929999997),\n",
       " ('Lightstorm Entertainment', 4632.999275),\n",
       " ('Lucasfilm', 3400.763513),\n",
       " ('Mandeville Films', 1263.521126),\n",
       " ('Marvel Studios', 9115.740912),\n",
       " ('Media Rights Capital', 1515.047671),\n",
       " ('One Race', 1515.047671),\n",
       " ('Original Film', 1515.047671),\n",
       " ('Paramount', 3364.592098),\n",
       " ('Perfect World Pictures', 1303.459585),\n",
       " ('Pixar', 1241.891456),\n",
       " ('Québec Production Services Tax Credit', 1515.047671),\n",
       " ('Ram Bergman Productions', 1332.539889),\n",
       " ('The Kennedy/Marshall Company', 1671.713208),\n",
       " ('Truenorth Productions', 2068.223624),\n",
       " ('Universal Pictures', 4490.220464),\n",
       " ('Walt Disney Animation Studios', 2604.983968),\n",
       " ('Walt Disney Pictures', 9446.618939999998),\n",
       " ('Warner Bros. Pictures', 1341.511219)]"
      ]
     },
     "execution_count": 38,
     "metadata": {},
     "output_type": "execute_result"
    }
   ],
   "source": [
    "con.execute('select comp_name, sum(revenue)\\\n",
    "             from Movies natural join Prod\\\n",
    "             group by comp_name').fetchall()"
   ]
  },
  {
   "attachments": {},
   "cell_type": "markdown",
   "metadata": {},
   "source": [
    "__Get all Production Companies for the movie \"Titanic\".__"
   ]
  },
  {
   "cell_type": "code",
   "execution_count": 41,
   "metadata": {},
   "outputs": [
    {
     "data": {
      "text/plain": [
       "[('20th Century Fox',), ('Lightstorm Entertainment',), ('Paramount',)]"
      ]
     },
     "execution_count": 41,
     "metadata": {},
     "output_type": "execute_result"
    }
   ],
   "source": [
    "con.execute('select comp_name\\\n",
    "            from Movies natural join Prod\\\n",
    "            where title = \"Titanic\"').fetchall()"
   ]
  },
  {
   "attachments": {},
   "cell_type": "markdown",
   "metadata": {},
   "source": [
    "__Get the Total Revenue (sum) for each Genre.__"
   ]
  },
  {
   "cell_type": "code",
   "execution_count": 42,
   "metadata": {},
   "outputs": [
    {
     "data": {
      "text/plain": [
       "[('Action', 21036.581432000003),\n",
       " ('Adventure', 25124.972342),\n",
       " ('Animation', 3846.875424),\n",
       " ('Drama', 1845.034188),\n",
       " ('Family', 6767.339944),\n",
       " ('Fantasy', 8807.960163000002),\n",
       " ('Romance', 3108.555314),\n",
       " ('Science Fiction', 18279.642305),\n",
       " ('Thriller', 3186.760879)]"
      ]
     },
     "execution_count": 42,
     "metadata": {},
     "output_type": "execute_result"
    }
   ],
   "source": [
    "con.execute('select genre_name, sum(revenue)\\\n",
    "            from Movies natural join Genres\\\n",
    "            group by genre_name').fetchall()"
   ]
  },
  {
   "attachments": {},
   "cell_type": "markdown",
   "metadata": {},
   "source": [
    "__Get all Genres for the movie \"Frozen II\".__"
   ]
  },
  {
   "cell_type": "code",
   "execution_count": 43,
   "metadata": {},
   "outputs": [
    {
     "data": {
      "text/plain": [
       "[('Adventure',), ('Animation',), ('Family',)]"
      ]
     },
     "execution_count": 43,
     "metadata": {},
     "output_type": "execute_result"
    }
   ],
   "source": [
    "con.execute('select genre_name\\\n",
    "            from Movies natural join Genres\\\n",
    "            where title = \"Frozen II\"').fetchall()"
   ]
  },
  {
   "attachments": {},
   "cell_type": "markdown",
   "metadata": {},
   "source": [
    "__Total Revenue of movie franchises by Marvel Studios after 2012(the first Avengers movie).__"
   ]
  },
  {
   "cell_type": "code",
   "execution_count": 49,
   "metadata": {},
   "outputs": [
    {
     "data": {
      "text/plain": [
       "[('Black Panther Collection', 1346.739107),\n",
       " ('The Avengers Collection', 7769.001805)]"
      ]
     },
     "execution_count": 49,
     "metadata": {},
     "output_type": "execute_result"
    }
   ],
   "source": [
    "con.execute('select belongs_to_collection_name,sum(revenue)\\\n",
    "            from Movies natural join Prod\\\n",
    "            where release_date > \"2012-01-01\" and comp_name = \"Marvel Studios\"\\\n",
    "            group by belongs_to_collection_name').fetchall()"
   ]
  },
  {
   "cell_type": "code",
   "execution_count": 57,
   "metadata": {},
   "outputs": [
    {
     "data": {
      "text/html": [
       "<div>\n",
       "<style scoped>\n",
       "    .dataframe tbody tr th:only-of-type {\n",
       "        vertical-align: middle;\n",
       "    }\n",
       "\n",
       "    .dataframe tbody tr th {\n",
       "        vertical-align: top;\n",
       "    }\n",
       "\n",
       "    .dataframe thead th {\n",
       "        text-align: right;\n",
       "    }\n",
       "</style>\n",
       "<table border=\"1\" class=\"dataframe\">\n",
       "  <thead>\n",
       "    <tr style=\"text-align: right;\">\n",
       "      <th></th>\n",
       "      <th>comp_name</th>\n",
       "      <th>rating</th>\n",
       "    </tr>\n",
       "  </thead>\n",
       "  <tbody>\n",
       "    <tr>\n",
       "      <th>0</th>\n",
       "      <td>Warner Bros. Pictures</td>\n",
       "      <td>8.100000</td>\n",
       "    </tr>\n",
       "    <tr>\n",
       "      <th>1</th>\n",
       "      <td>Heyday Films</td>\n",
       "      <td>8.100000</td>\n",
       "    </tr>\n",
       "    <tr>\n",
       "      <th>2</th>\n",
       "      <td>Marvel Studios</td>\n",
       "      <td>7.800000</td>\n",
       "    </tr>\n",
       "    <tr>\n",
       "      <th>3</th>\n",
       "      <td>Paramount</td>\n",
       "      <td>7.750000</td>\n",
       "    </tr>\n",
       "    <tr>\n",
       "      <th>4</th>\n",
       "      <td>Lightstorm Entertainment</td>\n",
       "      <td>7.600000</td>\n",
       "    </tr>\n",
       "    <tr>\n",
       "      <th>5</th>\n",
       "      <td>20th Century Fox</td>\n",
       "      <td>7.600000</td>\n",
       "    </tr>\n",
       "    <tr>\n",
       "      <th>6</th>\n",
       "      <td>Pixar</td>\n",
       "      <td>7.500000</td>\n",
       "    </tr>\n",
       "    <tr>\n",
       "      <th>7</th>\n",
       "      <td>Truenorth Productions</td>\n",
       "      <td>7.400000</td>\n",
       "    </tr>\n",
       "    <tr>\n",
       "      <th>8</th>\n",
       "      <td>Ingenious Media</td>\n",
       "      <td>7.400000</td>\n",
       "    </tr>\n",
       "    <tr>\n",
       "      <th>9</th>\n",
       "      <td>Dune Entertainment</td>\n",
       "      <td>7.400000</td>\n",
       "    </tr>\n",
       "    <tr>\n",
       "      <th>10</th>\n",
       "      <td>Bad Robot</td>\n",
       "      <td>7.400000</td>\n",
       "    </tr>\n",
       "    <tr>\n",
       "      <th>11</th>\n",
       "      <td>Québec Production Services Tax Credit</td>\n",
       "      <td>7.300000</td>\n",
       "    </tr>\n",
       "    <tr>\n",
       "      <th>12</th>\n",
       "      <td>Original Film</td>\n",
       "      <td>7.300000</td>\n",
       "    </tr>\n",
       "    <tr>\n",
       "      <th>13</th>\n",
       "      <td>One Race</td>\n",
       "      <td>7.300000</td>\n",
       "    </tr>\n",
       "    <tr>\n",
       "      <th>14</th>\n",
       "      <td>Media Rights Capital</td>\n",
       "      <td>7.300000</td>\n",
       "    </tr>\n",
       "    <tr>\n",
       "      <th>15</th>\n",
       "      <td>Colorado Office of Film, Television &amp; Media</td>\n",
       "      <td>7.300000</td>\n",
       "    </tr>\n",
       "    <tr>\n",
       "      <th>16</th>\n",
       "      <td>China Film Co.</td>\n",
       "      <td>7.300000</td>\n",
       "    </tr>\n",
       "    <tr>\n",
       "      <th>17</th>\n",
       "      <td>Abu Dhabi Film Commission</td>\n",
       "      <td>7.300000</td>\n",
       "    </tr>\n",
       "    <tr>\n",
       "      <th>18</th>\n",
       "      <td>Walt Disney Animation Studios</td>\n",
       "      <td>7.250000</td>\n",
       "    </tr>\n",
       "    <tr>\n",
       "      <th>19</th>\n",
       "      <td>Walt Disney Pictures</td>\n",
       "      <td>7.214286</td>\n",
       "    </tr>\n",
       "    <tr>\n",
       "      <th>20</th>\n",
       "      <td>Lucasfilm</td>\n",
       "      <td>7.200000</td>\n",
       "    </tr>\n",
       "    <tr>\n",
       "      <th>21</th>\n",
       "      <td>Fairview Entertainment</td>\n",
       "      <td>7.200000</td>\n",
       "    </tr>\n",
       "    <tr>\n",
       "      <th>22</th>\n",
       "      <td>Ram Bergman Productions</td>\n",
       "      <td>7.000000</td>\n",
       "    </tr>\n",
       "    <tr>\n",
       "      <th>23</th>\n",
       "      <td>Fuji Television Network</td>\n",
       "      <td>6.950000</td>\n",
       "    </tr>\n",
       "    <tr>\n",
       "      <th>24</th>\n",
       "      <td>Dentsu</td>\n",
       "      <td>6.950000</td>\n",
       "    </tr>\n",
       "    <tr>\n",
       "      <th>25</th>\n",
       "      <td>Mandeville Films</td>\n",
       "      <td>6.900000</td>\n",
       "    </tr>\n",
       "    <tr>\n",
       "      <th>26</th>\n",
       "      <td>Universal Pictures</td>\n",
       "      <td>6.800000</td>\n",
       "    </tr>\n",
       "    <tr>\n",
       "      <th>27</th>\n",
       "      <td>The Kennedy/Marshall Company</td>\n",
       "      <td>6.600000</td>\n",
       "    </tr>\n",
       "    <tr>\n",
       "      <th>28</th>\n",
       "      <td>Legendary Entertainment</td>\n",
       "      <td>6.550000</td>\n",
       "    </tr>\n",
       "    <tr>\n",
       "      <th>29</th>\n",
       "      <td>Amblin Entertainment</td>\n",
       "      <td>6.550000</td>\n",
       "    </tr>\n",
       "    <tr>\n",
       "      <th>30</th>\n",
       "      <td>Perfect World Pictures</td>\n",
       "      <td>6.500000</td>\n",
       "    </tr>\n",
       "  </tbody>\n",
       "</table>\n",
       "</div>"
      ],
      "text/plain": [
       "                                      comp_name    rating\n",
       "0                         Warner Bros. Pictures  8.100000\n",
       "1                                  Heyday Films  8.100000\n",
       "2                                Marvel Studios  7.800000\n",
       "3                                     Paramount  7.750000\n",
       "4                      Lightstorm Entertainment  7.600000\n",
       "5                              20th Century Fox  7.600000\n",
       "6                                         Pixar  7.500000\n",
       "7                         Truenorth Productions  7.400000\n",
       "8                               Ingenious Media  7.400000\n",
       "9                            Dune Entertainment  7.400000\n",
       "10                                    Bad Robot  7.400000\n",
       "11        Québec Production Services Tax Credit  7.300000\n",
       "12                                Original Film  7.300000\n",
       "13                                     One Race  7.300000\n",
       "14                         Media Rights Capital  7.300000\n",
       "15  Colorado Office of Film, Television & Media  7.300000\n",
       "16                               China Film Co.  7.300000\n",
       "17                    Abu Dhabi Film Commission  7.300000\n",
       "18                Walt Disney Animation Studios  7.250000\n",
       "19                         Walt Disney Pictures  7.214286\n",
       "20                                    Lucasfilm  7.200000\n",
       "21                       Fairview Entertainment  7.200000\n",
       "22                      Ram Bergman Productions  7.000000\n",
       "23                      Fuji Television Network  6.950000\n",
       "24                                       Dentsu  6.950000\n",
       "25                             Mandeville Films  6.900000\n",
       "26                           Universal Pictures  6.800000\n",
       "27                 The Kennedy/Marshall Company  6.600000\n",
       "28                      Legendary Entertainment  6.550000\n",
       "29                         Amblin Entertainment  6.550000\n",
       "30                       Perfect World Pictures  6.500000"
      ]
     },
     "execution_count": 57,
     "metadata": {},
     "output_type": "execute_result"
    }
   ],
   "source": [
    "data4 = pd.read_sql('select comp_name, avg(vote_average) as rating\\\n",
    "            from Movies natural join Votes natural join Prod\\\n",
    "            group by comp_name\\\n",
    "            order by rating desc',con)\n",
    "data4"
   ]
  }
 ],
 "metadata": {
  "kernelspec": {
   "display_name": "Python 3",
   "language": "python",
   "name": "python3"
  },
  "language_info": {
   "codemirror_mode": {
    "name": "ipython",
    "version": 3
   },
   "file_extension": ".py",
   "mimetype": "text/x-python",
   "name": "python",
   "nbconvert_exporter": "python",
   "pygments_lexer": "ipython3",
   "version": "3.10.8"
  }
 },
 "nbformat": 4,
 "nbformat_minor": 2
}
